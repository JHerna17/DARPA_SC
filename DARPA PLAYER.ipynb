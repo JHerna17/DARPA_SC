{
 "cells": [
  {
   "cell_type": "markdown",
   "metadata": {},
   "source": [
    "## Darpa Player \n",
    "\n",
    "The darpa player is defined by a Markov Chain Model with N states and the output can be int in the range of 1:M \n",
    "\n",
    "My Class attemps to recreate the DARPA Player so we can use it to simulate and run MonteCarlo simulations against our model and see if we can Pass the Hurdle #3 on the DARPA competition "
   ]
  },
  {
   "cell_type": "code",
   "execution_count": 1,
   "metadata": {
    "collapsed": false
   },
   "outputs": [
    {
     "name": "stdout",
     "output_type": "stream",
     "text": [
      "[0, 1, 2, 3, 4, 5, 6, 7, 8, 9]\n",
      "[1]\n"
     ]
    }
   ],
   "source": [
    "import random\n",
    "import numpy as np\n",
    "\n",
    "print range(10)\n",
    "p_ = np.random.random(10)\n",
    "print np.random.choice(range(10),1,p=p_/sum(p_))"
   ]
  },
  {
   "cell_type": "code",
   "execution_count": 2,
   "metadata": {
    "collapsed": false
   },
   "outputs": [],
   "source": [
    "class RandomPlayer:\n",
    "    ''' A Simple class that simulate a Random Player for the #3 Hurdle of the DARPA Competition  '''\n",
    "    import numpy as np\n",
    "    \n",
    "    def normalizeProbs(self,p_):        \n",
    "        \n",
    "        if (p_<0).any():\n",
    "            print \"Error\", p_\n",
    "        p_ = [float(i)/sum(p_) for i in p_]            \n",
    "        return p_\n",
    "        \n",
    "    def createProbs(self,L):\n",
    "        p_ = np.random.random(self.N)\n",
    "        \n",
    "        if (p_<0).any():\n",
    "            print \"Error 5\", p_\n",
    "            \n",
    "        p_ = self.normalizeProbs(p_)                \n",
    "        \n",
    "        return p_\n",
    "        \n",
    "    def __init__ (self, Max_N, M):\n",
    "        self._type = \"Random\"\n",
    "        self.N = np.random.choice(range(3,Max_N)) ## Random N-states\n",
    "        self.M = M                               ##  M-outputs\n",
    "        self.q = np.random.choice(range(self.N)) ## Random current state given N States \n",
    "        self.Q = np.zeros(shape= (self.M-1, self.N)) ## Transition Matrix Given Other Player Output\n",
    "        \n",
    "        # Iterate all rows \n",
    "        for i in range(self.Q.shape[0]-1):\n",
    "            \n",
    "            p_ = self.createProbs(self.N)\n",
    "            self.Q[i,:] = p_ # create row probabilities \n",
    "            # Get Row Q[q,:] row q all colums\n",
    "            # Get Col Q[:,q] all rows q colum\n",
    "            \n",
    "        \n",
    "        # In order to get A -> choice from Q column\n",
    "    def start(self):\n",
    "        \n",
    "        p_ = self.Q[:,self.q]\n",
    "        p_ = self.normalizeProbs(p_)        \n",
    "            \n",
    "        return [np.random.choice(range(1,self.M), p=p_),self.predict()]\n",
    "        \n",
    "    def step(self, A):\n",
    "        \n",
    "        ## TODO ERROR CASE WHEN A > M \n",
    "        \n",
    "        # Return A\n",
    "        \n",
    "        p_ = self.Q[:,self.q]\n",
    "                  \n",
    "        p_ = self.normalizeProbs(p_)\n",
    "        \n",
    "        D =  np.random.choice(range(1,self.M), p=p_)\n",
    "        \n",
    "        # update the state N \n",
    "        self.update(D)\n",
    "        \n",
    "        return [D,self.predict()]\n",
    "        \n",
    "    def update(self, A):\n",
    "        #print self.Q.shape, A-1\n",
    "        \n",
    "        p_ = self.Q[A-1,:]               \n",
    "            \n",
    "        p_ = self.normalizeProbs(p_)\n",
    "        #p_ = p_ / sum(p_)\n",
    "        \n",
    "        self.q = np.random.choice(range(self.N), p=p_)\n",
    "        \n",
    "        \n",
    "    def predict(self):\n",
    "        return np.random.choice(range(self.M)) # Random Guess\n",
    "        \n",
    "    def restart(self, Max_N):\n",
    "        self.__init__(Max_N,self.M)\n",
    "        return True\n",
    "        \n",
    "        \n",
    "        \n",
    "        \n",
    "        "
   ]
  },
  {
   "cell_type": "code",
   "execution_count": 3,
   "metadata": {
    "collapsed": false,
    "scrolled": true
   },
   "outputs": [],
   "source": [
    "for y in range(10):\n",
    "    test = RandomPlayer(4,10)\n",
    "    for i in range(500):\n",
    "        test.start()\n"
   ]
  },
  {
   "cell_type": "code",
   "execution_count": 4,
   "metadata": {
    "collapsed": false
   },
   "outputs": [
    {
     "name": "stdout",
     "output_type": "stream",
     "text": [
      "[4, 0]\n"
     ]
    }
   ],
   "source": [
    "\n",
    "#print test.start()\n",
    "#print test.N, test.M\n",
    "print test.step(test.M)"
   ]
  },
  {
   "cell_type": "code",
   "execution_count": 5,
   "metadata": {
    "collapsed": false
   },
   "outputs": [
    {
     "data": {
      "text/plain": [
       "array([ 0.,  0.,  0.])"
      ]
     },
     "execution_count": 5,
     "metadata": {},
     "output_type": "execute_result"
    }
   ],
   "source": [
    "np.zeros(3)"
   ]
  },
  {
   "cell_type": "code",
   "execution_count": 31,
   "metadata": {
    "collapsed": false
   },
   "outputs": [],
   "source": [
    "class Hurdle_MC:\n",
    "    ''' Simple Class to Emulate the 3rd hurdle of the DARPA Competition'''\n",
    "    \n",
    "    \n",
    "    \n",
    "    def normalizeProbs(self,p_):\n",
    "        \n",
    "        #p_ = p_ / sum(p_)   \n",
    "        p_ = [float(i)/sum(p_) for i in p_]\n",
    "        return p_\n",
    "        \n",
    "    \n",
    "    def __init__ (self, Player_1, Player_2, total_runs, Max_N, Max_M):\n",
    "        import numpy as np\n",
    "        import pandas as pd \n",
    "        \n",
    "        self.turns = 300\n",
    "        self.MaxN = Max_N  ## Variable for Random Player\n",
    "        self.MaxM = Max_M ## Variable for Random Player\n",
    "        self.PlayerD = Player_1 # 'DARPA'\n",
    "        self.PlayerA = Player_2 # 'Us'\n",
    "        self.BestPlayer = Player_2 ## Save the best player (for intelligent players)\n",
    "        self.mc_runs = total_runs # Total MonteCarlo runs\n",
    "        self.score = np.zeros(self.turns) # current score\n",
    "        self.LastScore = np.ndarray(shape= (total_runs,self.turns)) # Save the score of each run \n",
    "        self.BestPlayer = None\n",
    "        \n",
    "        \n",
    "    def _Score(self,A,P,D):\n",
    "        payoff = 0 \n",
    "        if A==D:  \n",
    "            payoff = payoff-12\n",
    "        if A!=D:\n",
    "            payoff = payoff+1\n",
    "        if P==D:\n",
    "            payoff = payoff+3\n",
    "            \n",
    "        return payoff\n",
    "    \n",
    "    def one_game(self):\n",
    "        \n",
    "        \n",
    "        self.PlayerD.restart(self.MaxN)\n",
    "        if self.PlayerA._type == \"Random\":\n",
    "            self.PlayerA.restart(self.MaxN)\n",
    "        else:            \n",
    "            self.PlayerA.restart()\n",
    "        \n",
    "        [A,P] = self.PlayerA.start()\n",
    "        \n",
    "        for turn in range(self.turns-1):# All turns but the last turn\n",
    "            [D,x] = self.PlayerD.step(A) # DARPA Turn with given output A\n",
    "            self.score[turn] = self._Score(A,P,D)# Score previous turn\n",
    "            [A,P] = self.PlayerA.step(D) # Make the play for next turn\n",
    "            \n",
    "        self.score[self.turns-1] = self._Score(A,P,D)\n",
    "        \n",
    "        \n",
    "        return self.PlayerA\n",
    "        \n",
    "    \n",
    "    def plot_games(self):\n",
    "        \n",
    "        import matplotlib.pyplot as plt\n",
    "        import pandas as pd\n",
    "        import math \n",
    "        %matplotlib inline\n",
    "        \n",
    "        # Convert the Scores of each run to DataFrame and get 10 means for ploting\n",
    "        score_df = pd.DataFrame(self.LastScore).transpose()#[-math.ceil(self.turns)/30:]\n",
    "        last = np.int32(math.ceil(self.turns/30)) \n",
    "        \n",
    "        score_df = score_df[-last:].cumsum()\n",
    "        score_df = self.bin_runs(score_df)\n",
    "        \n",
    "        #plt.plot(score_df, label=score_df.columns)\n",
    "        \n",
    "        \n",
    "        score_df.plot()        \n",
    "        l= plt.axhline(y=last*2,xmin=0, xmax=1 ,linewidth=2, color='ForestGreen',label='Threshold')\n",
    "        plt.ylabel('Score')\n",
    "        plt.xlabel('Turn')        \n",
    "        plt.title(\"Random Player Score over Time (Turns) for M = {0}\".format(self.PlayerD.M))\n",
    "        plt.legend(loc='center left', bbox_to_anchor=(1, 0.5))\n",
    "        \n",
    "        \n",
    "    \n",
    "    def bin_runs(self, df):\n",
    "        import pandas as pd\n",
    "        df_avg = pd.DataFrame()\n",
    "        bins = np.int16(np.round(np.linspace(0,len(df.columns),num=11)))\n",
    "        \n",
    "        for i in range(len(bins)-1):\n",
    "            df_avg[i] = df[df.columns[i:i+1]].mean(axis=1)\n",
    "\n",
    "        return df_avg\n",
    "    \n",
    "    def UpdateBestPlayer(self, Player):\n",
    "        \n",
    "        import pandas as pd\n",
    "        import math \n",
    "        \n",
    "        last = np.int32(math.ceil(self.turns/30)) \n",
    "        current_score = self.score[-last:].cumsum()[-1]\n",
    "        \n",
    "        if self.BestPlayer == None:\n",
    "            self.BestPlayer = Player\n",
    "            self.BestScore = current_score\n",
    "\n",
    "        else:                        \n",
    "            if current_score > self.BestScore:\n",
    "                self.BestPlayer = Player\n",
    "                self.BestScore = current_score\n",
    "            \n",
    "        return True\n",
    "        \n",
    "    def simulate(self):\n",
    "                    \n",
    "        for ith_game in range(self.mc_runs):\n",
    "            #print ith_game\n",
    "            #M_ = np.random.choice(range(3,self.MaxM)) ## Random M-channels\n",
    "            ith_Player = self.one_game()            \n",
    "            self.LastScore[ith_game] = self.score\n",
    "            self.UpdateBestPlayer(ith_Player)\n",
    "            \n",
    "        self.plot_games()    \n",
    "        \n",
    "        \n",
    "        \n",
    "        \n",
    "        \n",
    "        \n",
    "        "
   ]
  },
  {
   "cell_type": "code",
   "execution_count": 32,
   "metadata": {
    "collapsed": false,
    "scrolled": true
   },
   "outputs": [
    {
     "name": "stdout",
     "output_type": "stream",
     "text": [
      "[3, 3]\n",
      "[3, 2]\n",
      "Wall time: 1.64 s\n"
     ]
    },
    {
     "data": {
      "image/png": "[encoded data removed]",
      "text/plain": [
       "<matplotlib.figure.Figure at 0x7869320>"
      ]
     },
     "metadata": {},
     "output_type": "display_data"
    }
   ],
   "source": [
    "P1 = RandomPlayer(4,5)\n",
    "P2 = RandomPlayer(7,5)\n",
    "\n",
    "print P1.step(3)\n",
    "print P2.step(3)\n",
    "test = Hurdle_MC(P1,P2,30,10,10)\n",
    "\n",
    "%time test.simulate()"
   ]
  },
  {
   "cell_type": "code",
   "execution_count": 34,
   "metadata": {
    "collapsed": false
   },
   "outputs": [
    {
     "data": {
      "text/plain": [
       "<__main__.RandomPlayer instance at 0x000000000751EA08>"
      ]
     },
     "execution_count": 34,
     "metadata": {},
     "output_type": "execute_result"
    }
   ],
   "source": [
    "test.BestPlayer"
   ]
  },
  {
   "cell_type": "code",
   "execution_count": null,
   "metadata": {
    "collapsed": true
   },
   "outputs": [],
   "source": []
  }
 ],
 "metadata": {
  "kernelspec": {
   "display_name": "Python 2",
   "language": "python",
   "name": "python2"
  },
  "language_info": {
   "codemirror_mode": {
    "name": "ipython",
    "version": 2
   },
   "file_extension": ".py",
   "mimetype": "text/x-python",
   "name": "python",
   "nbconvert_exporter": "python",
   "pygments_lexer": "ipython2",
   "version": "2.7.12"
  }
 },
 "nbformat": 4,
 "nbformat_minor": 0
}
