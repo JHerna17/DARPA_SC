{
 "cells": [
  {
   "cell_type": "code",
   "execution_count": 1,
   "metadata": {
    "collapsed": false
   },
   "outputs": [],
   "source": [
    "import pandas as pd\n",
    "import os\n",
    "mingw_path = 'C:\\\\Program Files\\\\mingw-w64\\\\x86_64-5.3.0-posix-seh-rt_v4-rev0\\\\mingw64\\\\bin'\n",
    "os.environ['PATH'] = mingw_path + ';' + os.environ['PATH']"
   ]
  },
  {
   "cell_type": "markdown",
   "metadata": {},
   "source": [
    "Read the Data from 1 Simulation "
   ]
  },
  {
   "cell_type": "code",
   "execution_count": 2,
   "metadata": {
    "collapsed": false
   },
   "outputs": [
    {
     "data": {
      "text/html": [
       "<div>\n",
       "<table border=\"1\" class=\"dataframe\">\n",
       "  <thead>\n",
       "    <tr style=\"text-align: right;\">\n",
       "      <th></th>\n",
       "      <th>Player_Last</th>\n",
       "      <th>Last</th>\n",
       "      <th>pred</th>\n",
       "      <th>Player_lag_1</th>\n",
       "      <th>Player_lag_2</th>\n",
       "      <th>Player_lag_3</th>\n",
       "      <th>Player_lag_4</th>\n",
       "      <th>Player_lag_5</th>\n",
       "      <th>Player_lag_6</th>\n",
       "      <th>Player_lag_7</th>\n",
       "      <th>...</th>\n",
       "      <th>Bot_lag_91</th>\n",
       "      <th>Bot_lag_92</th>\n",
       "      <th>Bot_lag_93</th>\n",
       "      <th>Bot_lag_94</th>\n",
       "      <th>Bot_lag_95</th>\n",
       "      <th>Bot_lag_96</th>\n",
       "      <th>Bot_lag_97</th>\n",
       "      <th>Bot_lag_98</th>\n",
       "      <th>Bot_lag_99</th>\n",
       "      <th>Label</th>\n",
       "    </tr>\n",
       "  </thead>\n",
       "  <tbody>\n",
       "    <tr>\n",
       "      <th>99</th>\n",
       "      <td>9.0</td>\n",
       "      <td>7.0</td>\n",
       "      <td>9.0</td>\n",
       "      <td>8.0</td>\n",
       "      <td>6.0</td>\n",
       "      <td>4.0</td>\n",
       "      <td>8.0</td>\n",
       "      <td>3.0</td>\n",
       "      <td>5.0</td>\n",
       "      <td>4.0</td>\n",
       "      <td>...</td>\n",
       "      <td>6.0</td>\n",
       "      <td>7.0</td>\n",
       "      <td>7.0</td>\n",
       "      <td>3.0</td>\n",
       "      <td>3.0</td>\n",
       "      <td>4.0</td>\n",
       "      <td>8.0</td>\n",
       "      <td>3.0</td>\n",
       "      <td>4.0</td>\n",
       "      <td>5.0</td>\n",
       "    </tr>\n",
       "    <tr>\n",
       "      <th>100</th>\n",
       "      <td>4.0</td>\n",
       "      <td>5.0</td>\n",
       "      <td>1.0</td>\n",
       "      <td>9.0</td>\n",
       "      <td>8.0</td>\n",
       "      <td>6.0</td>\n",
       "      <td>4.0</td>\n",
       "      <td>8.0</td>\n",
       "      <td>3.0</td>\n",
       "      <td>5.0</td>\n",
       "      <td>...</td>\n",
       "      <td>3.0</td>\n",
       "      <td>6.0</td>\n",
       "      <td>7.0</td>\n",
       "      <td>7.0</td>\n",
       "      <td>3.0</td>\n",
       "      <td>3.0</td>\n",
       "      <td>4.0</td>\n",
       "      <td>8.0</td>\n",
       "      <td>3.0</td>\n",
       "      <td>2.0</td>\n",
       "    </tr>\n",
       "    <tr>\n",
       "      <th>101</th>\n",
       "      <td>9.0</td>\n",
       "      <td>2.0</td>\n",
       "      <td>1.0</td>\n",
       "      <td>4.0</td>\n",
       "      <td>9.0</td>\n",
       "      <td>8.0</td>\n",
       "      <td>6.0</td>\n",
       "      <td>4.0</td>\n",
       "      <td>8.0</td>\n",
       "      <td>3.0</td>\n",
       "      <td>...</td>\n",
       "      <td>4.0</td>\n",
       "      <td>3.0</td>\n",
       "      <td>6.0</td>\n",
       "      <td>7.0</td>\n",
       "      <td>7.0</td>\n",
       "      <td>3.0</td>\n",
       "      <td>3.0</td>\n",
       "      <td>4.0</td>\n",
       "      <td>8.0</td>\n",
       "      <td>5.0</td>\n",
       "    </tr>\n",
       "    <tr>\n",
       "      <th>102</th>\n",
       "      <td>5.0</td>\n",
       "      <td>5.0</td>\n",
       "      <td>6.0</td>\n",
       "      <td>9.0</td>\n",
       "      <td>4.0</td>\n",
       "      <td>9.0</td>\n",
       "      <td>8.0</td>\n",
       "      <td>6.0</td>\n",
       "      <td>4.0</td>\n",
       "      <td>8.0</td>\n",
       "      <td>...</td>\n",
       "      <td>7.0</td>\n",
       "      <td>4.0</td>\n",
       "      <td>3.0</td>\n",
       "      <td>6.0</td>\n",
       "      <td>7.0</td>\n",
       "      <td>7.0</td>\n",
       "      <td>3.0</td>\n",
       "      <td>3.0</td>\n",
       "      <td>4.0</td>\n",
       "      <td>2.0</td>\n",
       "    </tr>\n",
       "    <tr>\n",
       "      <th>103</th>\n",
       "      <td>7.0</td>\n",
       "      <td>2.0</td>\n",
       "      <td>7.0</td>\n",
       "      <td>5.0</td>\n",
       "      <td>9.0</td>\n",
       "      <td>4.0</td>\n",
       "      <td>9.0</td>\n",
       "      <td>8.0</td>\n",
       "      <td>6.0</td>\n",
       "      <td>4.0</td>\n",
       "      <td>...</td>\n",
       "      <td>7.0</td>\n",
       "      <td>7.0</td>\n",
       "      <td>4.0</td>\n",
       "      <td>3.0</td>\n",
       "      <td>6.0</td>\n",
       "      <td>7.0</td>\n",
       "      <td>7.0</td>\n",
       "      <td>3.0</td>\n",
       "      <td>3.0</td>\n",
       "      <td>3.0</td>\n",
       "    </tr>\n",
       "  </tbody>\n",
       "</table>\n",
       "<p>5 rows × 202 columns</p>\n",
       "</div>"
      ],
      "text/plain": [
       "     Player_Last  Last pred  Player_lag_1   Player_lag_2   Player_lag_3   \\\n",
       "99           9.0   7.0  9.0            8.0            6.0            4.0   \n",
       "100          4.0   5.0  1.0            9.0            8.0            6.0   \n",
       "101          9.0   2.0  1.0            4.0            9.0            8.0   \n",
       "102          5.0   5.0  6.0            9.0            4.0            9.0   \n",
       "103          7.0   2.0  7.0            5.0            9.0            4.0   \n",
       "\n",
       "     Player_lag_4   Player_lag_5   Player_lag_6   Player_lag_7   ...    \\\n",
       "99             8.0            3.0            5.0            4.0  ...     \n",
       "100            4.0            8.0            3.0            5.0  ...     \n",
       "101            6.0            4.0            8.0            3.0  ...     \n",
       "102            8.0            6.0            4.0            8.0  ...     \n",
       "103            9.0            8.0            6.0            4.0  ...     \n",
       "\n",
       "     Bot_lag_91   Bot_lag_92   Bot_lag_93   Bot_lag_94   Bot_lag_95   \\\n",
       "99           6.0          7.0          7.0          3.0          3.0   \n",
       "100          3.0          6.0          7.0          7.0          3.0   \n",
       "101          4.0          3.0          6.0          7.0          7.0   \n",
       "102          7.0          4.0          3.0          6.0          7.0   \n",
       "103          7.0          7.0          4.0          3.0          6.0   \n",
       "\n",
       "     Bot_lag_96   Bot_lag_97   Bot_lag_98   Bot_lag_99   Label  \n",
       "99           4.0          8.0          3.0          4.0    5.0  \n",
       "100          3.0          4.0          8.0          3.0    2.0  \n",
       "101          3.0          3.0          4.0          8.0    5.0  \n",
       "102          7.0          3.0          3.0          4.0    2.0  \n",
       "103          7.0          7.0          3.0          3.0    3.0  \n",
       "\n",
       "[5 rows x 202 columns]"
      ]
     },
     "execution_count": 2,
     "metadata": {},
     "output_type": "execute_result"
    }
   ],
   "source": [
    "data = pd.read_csv('Test_RF.csv')\n",
    "data['Label'] = data.Last.shift(-1)\n",
    "data = data.dropna(axis=0)\n",
    "data.head()"
   ]
  },
  {
   "cell_type": "markdown",
   "metadata": {},
   "source": [
    "Random Forest + XGB + LR from sklearn"
   ]
  },
  {
   "cell_type": "code",
   "execution_count": 3,
   "metadata": {
    "collapsed": false
   },
   "outputs": [],
   "source": [
    "from sklearn.cross_validation import train_test_split\n",
    "from sklearn.ensemble import RandomForestClassifier\n",
    "from sklearn.linear_model import LogisticRegression\n",
    "from sklearn.metrics import accuracy_score\n",
    "import xgboost as xgb\n",
    "import numpy as np\n",
    "\n",
    "\n",
    "#x_train, x_test, y_train, y_test = train_test_split(data.drop('Label',1), data.Label, test_size = 0.3)\n",
    "\n",
    "x = data.drop('pred',1).drop('Label',1)\n",
    "x_train = x[x.index < 0.8*x.shape[0]] \n",
    "x_test = x[x.index > 0.8*x.shape[0]] \n",
    "\n",
    "y = data.Label\n",
    "y_train = y[y.index < 0.8*y.shape[0]] \n",
    "y_test = y[y.index > 0.8*y.shape[0]] \n"
   ]
  },
  {
   "cell_type": "code",
   "execution_count": 4,
   "metadata": {
    "collapsed": false
   },
   "outputs": [
    {
     "name": "stdout",
     "output_type": "stream",
     "text": [
      "Train RF ACC: 1.0\n",
      "Test RF ACC: 0.111510791367\n",
      "Train GBM ACC: 1.0\n",
      "Test GBM ACC: 0.125899280576\n",
      "Train LR ACC: 0.979066022544\n",
      "Test LR ACC: 0.122302158273\n"
     ]
    }
   ],
   "source": [
    "rf =RandomForestClassifier(n_estimators= 25)\n",
    "gbm = xgb.XGBClassifier(max_depth=3, n_estimators=300, learning_rate=0.05).fit(x_train, y_train)\n",
    "lr = LogisticRegression().fit(x_train, y_train)\n",
    "\n",
    "rf.fit(x_train,y_train)\n",
    "\n",
    "print \"Train RF ACC:\", accuracy_score(y_train, rf.predict(x_train))\n",
    "print \"Test RF ACC:\", accuracy_score(y_test, rf.predict(x_test))\n",
    "\n",
    "print \"Train GBM ACC:\", accuracy_score(y_train, np.round(gbm.predict(x_train)))\n",
    "print \"Test GBM ACC:\", accuracy_score(y_test, np.round(gbm.predict(x_test)))\n",
    "\n",
    "print \"Train LR ACC:\", accuracy_score(y_train, np.round(lr.predict(x_train)))\n",
    "print \"Test LR ACC:\", accuracy_score(y_test, np.round(lr.predict(x_test)))"
   ]
  },
  {
   "cell_type": "markdown",
   "metadata": {
    "collapsed": false
   },
   "source": [
    "LSTM on Tensorflow\n",
    "\n",
    "\n",
    "Example of Predicting a Sin(x)"
   ]
  },
  {
   "cell_type": "code",
   "execution_count": 39,
   "metadata": {
    "collapsed": false
   },
   "outputs": [],
   "source": [
    "%matplotlib inline\n",
    "import numpy as np\n",
    "import pandas as pd\n",
    "import tensorflow as tf\n",
    "from matplotlib import pyplot as plt\n",
    "\n",
    "from tensorflow.contrib import learn\n",
    "from sklearn.metrics import mean_squared_error\n",
    "\n",
    "from lstm import generate_data, lstm_model\n"
   ]
  },
  {
   "cell_type": "code",
   "execution_count": 40,
   "metadata": {
    "collapsed": true
   },
   "outputs": [],
   "source": [
    "LOG_DIR = './ops_logs/sin'\n",
    "TIMESTEPS = 3\n",
    "RNN_LAYERS = [{'num_units': 5}]\n",
    "DENSE_LAYERS = None\n",
    "TRAINING_STEPS = 10000\n",
    "PRINT_STEPS = TRAINING_STEPS / 10\n",
    "BATCH_SIZE = 100"
   ]
  },
  {
   "cell_type": "code",
   "execution_count": 42,
   "metadata": {
    "collapsed": false
   },
   "outputs": [
    {
     "name": "stderr",
     "output_type": "stream",
     "text": [
      "WARNING:tensorflow:Using default config.\n"
     ]
    }
   ],
   "source": [
    "regressor = learn.Estimator(model_fn=lstm_model(TIMESTEPS, RNN_LAYERS, DENSE_LAYERS),\n",
    "                            model_dir=LOG_DIR)"
   ]
  },
  {
   "cell_type": "code",
   "execution_count": 43,
   "metadata": {
    "collapsed": false
   },
   "outputs": [
    {
     "name": "stderr",
     "output_type": "stream",
     "text": [
      "WARNING:tensorflow:sum_of_squares (from tensorflow.contrib.losses.python.losses.loss_ops) is deprecated and will be removed after 2016-10-01.\n",
      "Instructions for updating:\n",
      "Use mean_squared_error.\n",
      "WARNING:tensorflow:Given features: Tensor(\"input:0\", shape=(?, 3, 1), dtype=float32), required signatures: TensorSignature(dtype=tf.float32, shape=TensorShape([Dimension(None), Dimension(3), Dimension(1)]), is_sparse=False).\n",
      "WARNING:tensorflow:Given targets: Tensor(\"output:0\", shape=(?,), dtype=float32), required signatures: TensorSignature(dtype=tf.float32, shape=TensorShape([Dimension(None)]), is_sparse=False).\n",
      "WARNING:tensorflow:sum_of_squares (from tensorflow.contrib.losses.python.losses.loss_ops) is deprecated and will be removed after 2016-10-01.\n",
      "Instructions for updating:\n",
      "Use mean_squared_error.\n"
     ]
    },
    {
     "data": {
      "text/plain": [
       "Estimator(params=None)"
      ]
     },
     "execution_count": 43,
     "metadata": {},
     "output_type": "execute_result"
    }
   ],
   "source": [
    "X, y = generate_data(np.sin, np.linspace(0, 100, 10000, dtype=np.float32), TIMESTEPS, seperate=False)\n",
    "\n",
    "# create a lstm instance and validation monitor\n",
    "validation_monitor = learn.monitors.ValidationMonitor(X['val'], y['val'],\n",
    "                                                     every_n_steps=PRINT_STEPS,\n",
    "                                                     early_stopping_rounds=1000)\n",
    "# print(X['train'])\n",
    "# print(y['train'])\n",
    "\n",
    "regressor.fit(X['train'], y['train'], \n",
    "              monitors=[validation_monitor], \n",
    "              batch_size=BATCH_SIZE,\n",
    "              steps=TRAINING_STEPS)"
   ]
  },
  {
   "cell_type": "code",
   "execution_count": 44,
   "metadata": {
    "collapsed": false
   },
   "outputs": [
    {
     "name": "stderr",
     "output_type": "stream",
     "text": [
      "WARNING:tensorflow:Calling predict (from tensorflow.contrib.learn.python.learn.estimators.estimator) with as_iterable=False is deprecated and will be removed after 2016-09-15.\n",
      "Instructions for updating:\n",
      "The default behavior of predict() is changing. The default value for\n",
      "as_iterable will change to True, and then the flag will be removed\n",
      "altogether. The behavior of this flag is described below.\n",
      "WARNING:tensorflow:sum_of_squares (from tensorflow.contrib.losses.python.losses.loss_ops) is deprecated and will be removed after 2016-10-01.\n",
      "Instructions for updating:\n",
      "Use mean_squared_error.\n"
     ]
    },
    {
     "name": "stdout",
     "output_type": "stream",
     "text": [
      "MSE: 0.000180\n"
     ]
    }
   ],
   "source": [
    "predicted = regressor.predict(X['test'])\n",
    "rmse = np.sqrt(((predicted - y['test']) ** 2).mean(axis=0))\n",
    "score = mean_squared_error(predicted, y['test'])\n",
    "print (\"MSE: %f\" % score)"
   ]
  },
  {
   "cell_type": "code",
   "execution_count": 45,
   "metadata": {
    "collapsed": false
   },
   "outputs": [
    {
     "data": {
      "text/plain": [
       "<matplotlib.legend.Legend at 0x7f9d8a7a5690>"
      ]
     },
     "execution_count": 45,
     "metadata": {},
     "output_type": "execute_result"
    },
    {
     "data": {
      "image/png": "[encoded data removed]",
      "text/plain": [
       "<matplotlib.figure.Figure at 0x7f9db012ac50>"
      ]
     },
     "metadata": {},
     "output_type": "display_data"
    }
   ],
   "source": [
    "plot_predicted, = plt.plot(predicted, label='predicted')\n",
    "plot_test, = plt.plot(y['test'], label='test')\n",
    "plt.legend(handles=[plot_predicted, plot_test])"
   ]
  },
  {
   "cell_type": "markdown",
   "metadata": {},
   "source": [
    "What I need to do is format the input and output the same way"
   ]
  },
  {
   "cell_type": "code",
   "execution_count": 52,
   "metadata": {
    "collapsed": false
   },
   "outputs": [
    {
     "name": "stdout",
     "output_type": "stream",
     "text": [
      "(8097, 3, 1) (997, 3, 1)\n",
      "[[[ 0.        ]\n",
      "  [ 0.01000083]\n",
      "  [ 0.02000067]]\n",
      "\n",
      " [[ 0.01000083]\n",
      "  [ 0.02000067]\n",
      "  [ 0.0299985 ]]\n",
      "\n",
      " [[ 0.02000067]\n",
      "  [ 0.0299985 ]\n",
      "  [ 0.03999333]]\n",
      "\n",
      " ..., \n",
      " [[-0.66933382]\n",
      "  [-0.66186923]\n",
      "  [-0.65434426]]\n",
      "\n",
      " [[-0.66186923]\n",
      "  [-0.65434426]\n",
      "  [-0.64674807]]\n",
      "\n",
      " [[-0.65434426]\n",
      "  [-0.64674807]\n",
      "  [-0.63908714]]]\n",
      "(8097, 1) (997, 1)\n",
      "[[ 0.0299985 ]\n",
      " [ 0.03999333]\n",
      " [ 0.04998416]\n",
      " ..., \n",
      " [-0.64674807]\n",
      " [-0.63908714]\n",
      " [-0.63136232]]\n"
     ]
    }
   ],
   "source": [
    "print X['train'].shape, X['test'].shape\n",
    "print X['train']\n",
    "\n",
    "print y['train'].shape, y['test'].shape\n",
    "print y['train']"
   ]
  },
  {
   "cell_type": "code",
   "execution_count": null,
   "metadata": {
    "collapsed": true
   },
   "outputs": [],
   "source": []
  }
 ],
 "metadata": {
  "kernelspec": {
   "display_name": "Python 2",
   "language": "python",
   "name": "python2"
  },
  "language_info": {
   "codemirror_mode": {
    "name": "ipython",
    "version": 2
   },
   "file_extension": ".py",
   "mimetype": "text/x-python",
   "name": "python",
   "nbconvert_exporter": "python",
   "pygments_lexer": "ipython2",
   "version": "2.7.12"
  }
 },
 "nbformat": 4,
 "nbformat_minor": 0
}
