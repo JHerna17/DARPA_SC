{
 "cells": [
  {
   "cell_type": "markdown",
   "metadata": {},
   "source": [
    "## UNT MODELS for DARPA Hurdle 3 \n",
    "\n",
    "Given that a Random Guess does not perform well enough to pass the 3rd hurdle of the DARPA Sharing Spectrum Competition, Then a more intelligent solution is required. In this document I propose 3 posible solutions for this 3rd hurdle. \n"
   ]
  },
  {
   "cell_type": "markdown",
   "metadata": {},
   "source": [
    "\n",
    "\n",
    "#### Solution 1: Generic Random Forest Predictor given the past behaviour\n",
    "\n",
    "   This is the fastest and one of the easiest methods I could think of. Given the last outputs of the Player and the DARPA player let a Random Forest predict the next output given a sequence of previous outputs. \n",
    "   \n",
    "   Input sequences may be M-length or Fixed-Length (e.g. 100 samples) \n",
    "     \n",
    "   Output of the estimator is a M-length-1 vector with the probabilities of each posible output. From here we select the most Probable output as our prediction and the Least probable output as out selection \n",
    "   \n"
   ]
  },
  {
   "cell_type": "code",
   "execution_count": 73,
   "metadata": {
    "collapsed": false,
    "scrolled": true
   },
   "outputs": [],
   "source": [
    "# import UNT_hurdle3.py  for training and simulation \n",
    "\n",
    "import UNT_hurdle3 as h3 \n",
    "import pandas as pd \n",
    "import numpy as np\n",
    "import time\n",
    "from sklearn.ensemble import RandomForestClassifier\n",
    "from sklearn.grid_search import GridSearchCV\n",
    "from sklearn.cross_validation import KFold\n",
    "from sklearn.pipeline import Pipeline\n",
    "from sklearn.metrics import accuracy_score\n",
    "import numpy as np\n",
    "import itertools\n",
    "\n",
    "\n",
    "class RFPlayer:\n",
    "    ''' A Simple class that simulate a RandomForest base Player for the #3 Hurdle of the DARPA Competition  '''\n",
    "    import numpy as np\n",
    "    from sklearn.ensemble import RandomForestClassifier                       \n",
    "        \n",
    "        \n",
    "        \n",
    "    def __init__ (self, N,retrain=500, seq_size = 100):\n",
    "        self._type = \"RF\"\n",
    "        self.N = N                        ## Random N-states (NOT USED)\n",
    "        self.M = N                        ##  M-outputs\n",
    "        self.clf = RandomForestClassifier(n_estimators=25) ## Our estimator\n",
    "        self.retrain = retrain            ## Retrain after #retrain turns of the game\n",
    "        self.input_size = seq_size        ## How many lags should we include\n",
    "        self.Dataset = self.createDataset(seq_size)\n",
    "        self.record = pd.DataFrame( columns=['Player_Last','Last','pred'])\n",
    "        self.feature = []\n",
    "        self.turn = 0\n",
    "        self.LastPred = -1\n",
    "                            \n",
    "        \n",
    "        # In order to get A -> choice from Q column\n",
    "    def start(self):\n",
    "\n",
    "        D,P = [np.random.choice(range(1,self.M)),np.random.choice(range(1,self.M))]\n",
    "        self.Prev_D = D\n",
    "        return D,P\n",
    "        \n",
    "    def step(self, A):\n",
    "        \n",
    "        self.turn = self.turn +1\n",
    "        self.appendData(A,self.Prev_D, self.LastPred)\n",
    "        \n",
    "        if self.turn < self.retrain:\n",
    "            D,P = self.start()\n",
    "                    \n",
    "        else:\n",
    "            # check if is time to train \n",
    "            if self.turn%self.retrain == 0:\n",
    "                # Train\n",
    "                self.Train()\n",
    "                    \n",
    "            D,P = self.predict()            \n",
    "                 \n",
    "        self.Prev_D = D\n",
    "        self.LastPred = P\n",
    "        return [D,P]\n",
    "    \n",
    "    \n",
    "    def createDataset(self, lags):\n",
    "        Player_names = ['Player_lag_{0} '.format(s) for s in range(1,lags)]\n",
    "        Bot_names = [\"Bot_lag_{0}\".format(s) for s in range(1,lags)]\n",
    "        cols = np.concatenate([['Player_Last','Last'],Player_names,Bot_names], axis=0)\n",
    "        \n",
    "                                           \n",
    "        df = pd.DataFrame(columns=['Player_Last','Last'], dtype = 'int32')\n",
    "        \n",
    "        return df        \n",
    "    \n",
    "    def FormatData(self):\n",
    "        \n",
    "        tdf = pd.concat([self.record.Player_Last.shift(n) for n in range(1,self.input_size)], axis=1)\n",
    "        tdf.columns = ['Player_lag_{0} '.format(s) for s in range(1,self.input_size)]\n",
    "        ttdf = pd.concat([self.record.Last.shift(n) for n in range(1,self.input_size) ], axis=1)\n",
    "        ttdf.columns = ['Bot_lag_{0} '.format(s) for s in range(1,self.input_size)]\n",
    "\n",
    "        df = pd.concat([self.record,tdf,ttdf], axis=1)\n",
    "        \n",
    "        return df\n",
    "    \n",
    "    def appendData(self, A, D,P):\n",
    "                \n",
    "        self.record = self.record.append(pd.DataFrame([[D,A,P]], columns=['Player_Last','Last','pred']),ignore_index=True)\n",
    "        self.Dataset = self.FormatData()\n",
    "        \n",
    "    def Train(self):                \n",
    "        \n",
    "        print \"Training.. \"\n",
    "        df = self.Dataset.drop('pred',1).copy()\n",
    "        df['Label'] = self.Dataset.Last.shift(-1)  \n",
    "        df = df.dropna(axis=0) # Remove NA rows \n",
    "        rf = RandomForestClassifier(n_estimators=20) # Basic Clf\n",
    "        \n",
    "        #run grid search\n",
    "        kf = KFold(df.shape[0],n_folds=3)\n",
    "        grid_search = GridSearchCV(rf,{})  \n",
    "        \n",
    "        \n",
    "        x = df.drop('Label',1)\n",
    "        y = df.Label\n",
    "        self.clf = grid_search.fit(x,y)            \n",
    "        \n",
    "        #print \"Train ACC:\", accuracy_score(y, self.clf.predict(x))\n",
    "        return True    \n",
    "\n",
    "    \n",
    "    def predict(self):\n",
    "        proba = self.clf.predict_proba(self.Dataset.drop('pred',1)[-1:])\n",
    "        \n",
    "        l = self.Dataset.Last.unique()\n",
    "        l.sort(axis=0)\n",
    "        \n",
    "\n",
    "        \n",
    "        return l[proba.argmin()], l[proba.argmax()] # P = More Likely, D = Less Likely \n",
    "        \n",
    "    def restart(self):\n",
    "        print \"Restarting.. \"\n",
    "        self.__init__(self.N,self.retrain,self.input_size)\n",
    "        return True\n",
    "        \n",
    "        \n",
    "class JorgePlayer:\n",
    "    ''' \n",
    "    A Simple class that simulate a base Player based on Jorge's prediction\n",
    "    for the #3 Hurdle of the DARPA Competition\n",
    "    '''\n",
    "    import numpy as np\n",
    "    from sklearn.ensemble import RandomForestClassifier \n",
    "    import itertools\n",
    "   \n",
    "    def __init__ (self, N,retrain=500):\n",
    "        \n",
    "        self._type = \"Jorge\"\n",
    "        self.N = N                        ## Random N-states (NOT USED)\n",
    "        self.M = N                        ##  M-outputs        \n",
    "        self.retrain = retrain            ## Retrain after #retrain turns of the game        \n",
    "        self.Dataset, self.BestPlayTable = self.createDataset()\n",
    "        self.record = pd.DataFrame( columns=['Player_Last','Last','pred','Player_Play'])\n",
    "        \n",
    "        self.turn = 0\n",
    "        self.PlayerLast = -1\n",
    "                                    \n",
    "    def start(self):\n",
    "\n",
    "        D,P = [np.random.choice(range(self.M)),np.random.choice(range(self.M))]\n",
    "        self.Prev_D = D\n",
    "        return D,P\n",
    "        \n",
    "    def step(self, Last):\n",
    "        \n",
    "        self.turn = self.turn +1\n",
    "        \n",
    "        if self.turn < self.retrain:\n",
    "            PlayerPlay,pred = self.start()\n",
    "                    \n",
    "        else:\n",
    "            # check if is time to train \n",
    "            if self.turn%self.retrain == 0:\n",
    "                # Train\n",
    "                self.Train()\n",
    "                    \n",
    "            PlayerPlay,pred = self.predict(Last)            \n",
    "                 \n",
    "        self.appendData(Last,self.PlayerLast, pred,PlayerPlay)\n",
    "\n",
    "        self.PlayerLast = PlayerPlay\n",
    "        \n",
    "        return [PlayerPlay,pred]\n",
    "    \n",
    "    \n",
    "    def updateBestPlay(self,Player_Last, Last):\n",
    "        if PlayerPlay == Last:\n",
    "            self.BestPlayTable[self.BestPlayTable.index == Player_Last] = self.BestPlayTable[self.BestPlayTable.index == Player_Last] -1\n",
    "        else:\n",
    "            self.BestPlayTable[self.BestPlayTable.index == Player_Last] = self.BestPlayTable[self.BestPlayTable.index == Player_Last] +1\n",
    "            \n",
    "    \n",
    "    def updateDataset(self):  \n",
    "        \n",
    "        df= self.record\n",
    "        df['Label'] = df.Last.shift(-1)\n",
    "        self.Dataset =df.groupby(['Player_Play','Last']).Label.agg(lambda x:x.value_counts().index[0]).reset_index()                \n",
    "        \n",
    "    def createDataset(self):\n",
    "        \n",
    "        # Create Dataset : Counts the Number of times the oponent makes a play by a giving combination of Last and Player_Play\n",
    "        \n",
    "        #features = [\"{0}\".format(s) for s in range(self.N)]\n",
    "        #features = np.concatenate([['Player_Play','Last'], features])\n",
    "        #df = pd.DataFrame(columns=[features], dtype='int32')\n",
    "        #for i,v in  itertools.combinations(range(self.N),2): # All Permutations\n",
    "            #zeros = np.zeros(self.N+2)\n",
    "            #zeros[0] = i \n",
    "            #zeros[1] = v\n",
    "            #df = df.append(pd.DataFrame([zeros],columns=features), ignore_index=True)\n",
    "\n",
    "        #for i in range(10): # All repeated values\n",
    "            #zeros = np.zeros(self.N+2)\n",
    "            #zeros[0] = i\n",
    "            #zeros[1] = i\n",
    "            #df = df.append(pd.DataFrame([zeros],columns=features), ignore_index=True)\n",
    "        \n",
    "        df = pd.DataFrame(columns=['Player_Play','Last','pred','Player_Last','pred'])\n",
    "        #table to keep score of our best plays \n",
    "        table = pd.DataFrame(index=range(self.N), columns=['Points'])\n",
    "        return df, table\n",
    "    \n",
    "    \n",
    "    def appendData(self, Last, Player_Last,pred,Play):\n",
    "                \n",
    "        self.record = self.record.append(pd.DataFrame([[Last, Player_Last,pred,Play]], columns=['Last','Player_Last','pred','Player_Play']),ignore_index=True)\n",
    "        \n",
    "    def Train(self):                \n",
    "        \n",
    "        print \"Training.. \"\n",
    "        # Training is really update the Dataset\n",
    "        self.updateDataset()\n",
    "        \n",
    "        return True    \n",
    "\n",
    "    \n",
    "    def predict(self,Last):\n",
    "        \n",
    "        good = False\n",
    "        for i in range(1,11):\n",
    "            play = self.BestPlayTable.sort('Points')[:i].index.values[-1] # i+1\n",
    "            \n",
    "            pred = self.Dataset[(self.Dataset.Player_Play == play) & (self.Dataset.Last == Last)].Label.iloc[0]\n",
    "            \n",
    "            if play != pred:\n",
    "                good = True\n",
    "                break\n",
    "        \n",
    "        if not good:\n",
    "            play,pred = np.random.randint(0,self.N,size=2)               \n",
    "\n",
    "        \n",
    "        return play,pred # P = More Likely, D = Less Likely \n",
    "        \n",
    "    def restart(self):\n",
    "        print \"Restarting.. \"\n",
    "        self.__init__(self.N,self.retrain)\n",
    "        return True\n",
    "               \n",
    "        \n",
    "        "
   ]
  },
  {
   "cell_type": "code",
   "execution_count": null,
   "metadata": {
    "collapsed": false
   },
   "outputs": [],
   "source": []
  },
  {
   "cell_type": "code",
   "execution_count": 74,
   "metadata": {
    "collapsed": false
   },
   "outputs": [
    {
     "name": "stdout",
     "output_type": "stream",
     "text": [
      "1\n",
      "1\n"
     ]
    },
    {
     "data": {
      "text/plain": [
       "(4, 8)"
      ]
     },
     "execution_count": 74,
     "metadata": {},
     "output_type": "execute_result"
    }
   ],
   "source": [
    "test = h3.DarpaPlayer(10,probs=1)\n",
    "test.start()\n",
    "test.step(1)\n",
    "test.step(2)\n",
    "test.step(3)\n",
    "test.step(4)\n",
    "test.step(5)"
   ]
  },
  {
   "cell_type": "code",
   "execution_count": 75,
   "metadata": {
    "collapsed": false
   },
   "outputs": [
    {
     "data": {
      "text/plain": [
       "array([ 0.,  0.,  0.,  0.,  0.,  0.,  0.,  0.,  1.,  0.])"
      ]
     },
     "execution_count": 75,
     "metadata": {},
     "output_type": "execute_result"
    }
   ],
   "source": [
    "test.transition_mat[0,0,:]"
   ]
  },
  {
   "cell_type": "code",
   "execution_count": null,
   "metadata": {
    "collapsed": false
   },
   "outputs": [],
   "source": []
  },
  {
   "cell_type": "code",
   "execution_count": 76,
   "metadata": {
    "collapsed": false,
    "scrolled": true
   },
   "outputs": [],
   "source": [
    "for i in range(0,100):\n",
    "    test.step(1)\n",
    "    test.step(2)\n",
    "    test.step(3)\n",
    "    test.step(4)\n",
    "    test.step(5)"
   ]
  },
  {
   "cell_type": "code",
   "execution_count": 77,
   "metadata": {
    "collapsed": false,
    "scrolled": true
   },
   "outputs": [
    {
     "name": "stdout",
     "output_type": "stream",
     "text": [
      "1\n",
      "Total MC Runs 3\n",
      "Total Turns 3000\n",
      "1\n",
      "1\n",
      "Restarting.. \n",
      "Training.. \n"
     ]
    },
    {
     "name": "stderr",
     "output_type": "stream",
     "text": [
      "/anaconda/lib/python2.7/site-packages/ipykernel/__main__.py:232: FutureWarning: sort(columns=....) is deprecated, use sort_values(by=.....)\n"
     ]
    },
    {
     "name": "stdout",
     "output_type": "stream",
     "text": [
      "Training.. \n",
      "1\n",
      "1\n",
      "Restarting.. \n",
      "Training.. \n",
      "Training.. \n",
      "1\n",
      "1\n",
      "Restarting.. \n",
      "Training.. \n",
      "Training.. \n",
      "CPU times: user 44.1 s, sys: 24.9 ms, total: 44.1 s\n",
      "Wall time: 44.1 s\n"
     ]
    },
    {
     "data": {
      "image/png": "[encoded data removed]",
      "text/plain": [
       "<matplotlib.figure.Figure at 0x7fc8998be3d0>"
      ]
     },
     "metadata": {},
     "output_type": "display_data"
    }
   ],
   "source": [
    "P1 = h3.DarpaPlayer(10,probs=1)\n",
    "\n",
    "RFP = JorgePlayer(10,retrain=1000)\n",
    "\n",
    "test = h3.Hurdle_MC(P1,RFP,total_turns = 3000, total_runs=3)\n",
    "\n",
    "print \"Total MC Runs\", test.mc_runs\n",
    "print \"Total Turns\", test.turns\n",
    "%time test.simulate()"
   ]
  },
  {
   "cell_type": "code",
   "execution_count": 72,
   "metadata": {
    "collapsed": false
   },
   "outputs": [
    {
     "name": "stdout",
     "output_type": "stream",
     "text": [
      "0.0\n",
      "   Player_Play  Last  Label    Max\n",
      "3          0.0   3.0    0.0  Label\n"
     ]
    }
   ],
   "source": [
    "#test.PlayerA.Dataset[(test.PlayerA.Dataset.Player_Last == test.PlayerA.Dataset.Last) & (test.PlayerA.record.index  > 29000)].shape\n",
    "df= test.PlayerA.Dataset\n",
    "print df[(df.Player_Play == 0) & (df.Last == 3)].Label.iloc[0]\n",
    "print df[(df.Player_Play == 0) & (df.Last == 3)]"
   ]
  },
  {
   "cell_type": "code",
   "execution_count": 28,
   "metadata": {
    "collapsed": false
   },
   "outputs": [
    {
     "name": "stdout",
     "output_type": "stream",
     "text": [
      "[ 0.04616617  0.05350465  0.17588837  0.13372383  0.11869456  0.1122892\n",
      "  0.13322984  0.01488201  0.08279615  0.1288252 ]\n"
     ]
    },
    {
     "data": {
      "text/plain": [
       "4.0    21\n",
       "Name: Label, dtype: int64"
      ]
     },
     "execution_count": 28,
     "metadata": {},
     "output_type": "execute_result"
    }
   ],
   "source": [
    "print test.PlayerD.transition_mat[0,0,:]\n",
    "df[(df.Player_Play == 1) & (df.Last == 1)].Label.value_counts()"
   ]
  },
  {
   "cell_type": "markdown",
   "metadata": {},
   "source": [
    "### Solution 4: HMM \n",
    "\n"
   ]
  },
  {
   "cell_type": "code",
   "execution_count": null,
   "metadata": {
    "collapsed": false
   },
   "outputs": [],
   "source": [
    "play,pred = np.random.randint(0,10,size=2)\n",
    "\n",
    "print play, pred"
   ]
  },
  {
   "cell_type": "code",
   "execution_count": null,
   "metadata": {
    "collapsed": true
   },
   "outputs": [],
   "source": [
    "from hmmlearn.hmm import GaussianHMM\n",
    "class HMMPlayer:\n",
    "    ''' A Simple class that simulate a Random Player for the #3 Hurdle of the DARPA Competition  '''\n",
    "    import numpy as np\n",
    "    \n",
    "        \n",
    "    def __init__ (self, N, retrain=500, seq_size = 100):\n",
    "        self._type = \"HMM\"        \n",
    "        self.N = N                               ##  M-outputs\n",
    "        self.M = N\n",
    "        self.record = pd.DataFrame( columns=['Player_Last','Last','pred'])\n",
    "        self.turn = 0\n",
    "        self.retrain = retrain\n",
    "        self.LastPred = -1\n",
    "        self.model = GaussianHMM(n_components=N, covariance_type=\"full\", n_iter=500)\n",
    "\n",
    "                    \n",
    "    def start(self):\n",
    "        \n",
    "        D,P = [np.random.choice(range(1,self.M)),np.random.choice(range(1,self.M))]\n",
    "        self.Prev_D = D\n",
    "        return D,P\n",
    "        \n",
    "    def step(self, A):\n",
    "        \n",
    "        self.turn = self.turn +1\n",
    "        self.appendData(A,self.Prev_D, self.LastPred)\n",
    "        \n",
    "        if self.turn < self.retrain:\n",
    "            D,P = self.start()\n",
    "                    \n",
    "        else:\n",
    "            # check if is time to train \n",
    "            if self.turn%self.retrain == 0:\n",
    "                # Train\n",
    "                self.Train()\n",
    "                    \n",
    "            D,P = self.predict()            \n",
    "                 \n",
    "        self.Prev_D = D\n",
    "        self.LastPred = P\n",
    "        return [D,P]\n",
    "        \n",
    "    def appendData(self, A, D,P):\n",
    "                \n",
    "        self.record = self.record.append(pd.DataFrame([[D,A,P]], columns=['Player_Last','Last','pred']),ignore_index=True)\n",
    "        \n",
    "        \n",
    "    def Train(self):                \n",
    "        \n",
    "        print \"Training.. \"\n",
    "        df = self.record.drop('pred',1).copy()\n",
    "        df['Label'] = self.record.Last.shift(-1)  \n",
    "        df = df.dropna(axis=0) # Remove NA rows \n",
    "        \n",
    "        \n",
    "        x = df.drop('Label',1)\n",
    "        y = df.Label\n",
    "        \n",
    "        self.model = self.model.fit(x)\n",
    "                       \n",
    "        #print \"Train ACC:\", accuracy_score(y, self.clf.predict(x))\n",
    "        return True    \n",
    "\n",
    "    \n",
    "    def predict(self):\n",
    "        \n",
    "        # Predict the optimal sequence of internal hidden state\n",
    "        hidden_states = self.model.predict(self.record[['Player_Last', 'Last']]) ## This will give us a n_components x n_components transmition matrix that tries to imitate the DARPA Player Q matrix\n",
    "        \n",
    "        darpa_state = hidden_states[-1:] # this will give me the last state of the most probable \n",
    "        p_ = self.model.transmat_[darpa_state,:][0]\n",
    "                \n",
    "        P = np.random.choice(range(self.N), p=p_)\n",
    "        \n",
    "        p_x = 1-p_ # Inverse Probabilities to get the Least Likely   \n",
    "        p_x[P] = 0 # Make sure we dont get the same output by randomness\n",
    "        p_x = (1-p_x)/sum(1-p_x)      # Norm \n",
    "        \n",
    "        D = np.random.choice(range(self.N), p= p_x)\n",
    "\n",
    "        \n",
    "        return D,P  # P = More Likely, D = Less Likely \n",
    "        \n",
    "    def restart(self):\n",
    "        print \"Restarting.. \"\n",
    "        self.__init__(self.N,retrain=self.retrain)\n",
    "        return True\n",
    "        "
   ]
  },
  {
   "cell_type": "code",
   "execution_count": null,
   "metadata": {
    "collapsed": false
   },
   "outputs": [],
   "source": [
    "test = HMMPlayer(10)\n",
    "test.start()\n",
    "test.step(1)\n",
    "test.step(2)\n",
    "test.step(3)\n",
    "test.step(4)\n",
    "test.step(5)"
   ]
  },
  {
   "cell_type": "code",
   "execution_count": null,
   "metadata": {
    "collapsed": false
   },
   "outputs": [],
   "source": [
    "#P1 = h3.RandomPlayer(10,10)\n",
    "HMMP = HMMPlayer(10,retrain=29000)\n",
    "\n",
    "test = h3.Hurdle_MC(P1,HMMP,total_turns = 30000, total_runs=3)\n",
    "\n",
    "print \"Total MC Runs\", test.mc_runs\n",
    "print \"Total Turns\", test.turns\n",
    "%time test.simulate()"
   ]
  },
  {
   "cell_type": "code",
   "execution_count": null,
   "metadata": {
    "collapsed": false
   },
   "outputs": [],
   "source": [
    "from sklearn.metrics import accuracy_score\n",
    "print test.PlayerA.record[(test.PlayerA.record.Player_Last == test.PlayerA.record.Last) & (test.PlayerA.record.index  > 29000)].shape\n",
    "y_test = test.PlayerA.record.Last[(test.PlayerA.record.index  > 29000)].fillna(0)\n",
    "pred = test.PlayerA.record.pred[(test.PlayerA.record.index  > 29000)]\n",
    "print \"ACC:\", accuracy_score(y_test,pred )\n"
   ]
  },
  {
   "cell_type": "markdown",
   "metadata": {},
   "source": [
    "#### Solution 2: eXtreme Gradient Bosting Machine (XGB)  given the past behaviour\n",
    "\n",
    "   This is an evolution of the first method, However it requires the instalation of XGB in the docker_container. Same procedure as the Solution 1 \n",
    "   \n",
    "   Input sequences may be M-length or Fixed-Length (e.g. 100 samples) \n",
    "     \n",
    "   Output of the estimator is a M-length-1 vector with the probabilities of each posible output. From here we select the most Probable output as our prediction and the Least probable output as out selection \n",
    "\n",
    "#### Solution 3: Long Short Term Memory Neural Networks on Tensorflow (The good stuff!)  given the past behaviour\n",
    "\n",
    "   This is completly different approach from the previous models. (TODO: Add more info for LSTM if needed) \n",
    "   \n",
    "           \n",
    "   Output of the estimator is a M-length-1 vector with the probabilities of each posible output. From here we select the most Probable output as our prediction and the Least probable output as out selection \n",
    "      "
   ]
  },
  {
   "cell_type": "code",
   "execution_count": null,
   "metadata": {
    "collapsed": false
   },
   "outputs": [],
   "source": [
    "print test.PlayerA.clf.predict_proba(test.PlayerA.Dataset.drop('pred',1)[-5:])\n",
    "print test.PlayerA.clf.predict(test.PlayerA.Dataset.drop('pred',1)[-5:])\n"
   ]
  },
  {
   "cell_type": "code",
   "execution_count": null,
   "metadata": {
    "collapsed": false
   },
   "outputs": [],
   "source": [
    "l = test.PlayerA.Dataset.Last.unique()\n",
    "l.sort(axis=0)\n",
    "print l\n",
    "\n",
    "proba = test.PlayerA.clf.predict_proba(test.PlayerA.Dataset.drop('pred',1)[-1:])\n",
    "pred = test.PlayerA.clf.predict(test.PlayerA.Dataset.drop('pred',1)[-1:])\n",
    "\n",
    "print \"More Likely: \", l[proba.argmax()], \" Pred: \", pred\n",
    "print \"Less Likely: \", l[proba.argmin()], \" Pred: \", pred, \" Probas: \", proba"
   ]
  },
  {
   "cell_type": "code",
   "execution_count": null,
   "metadata": {
    "collapsed": false
   },
   "outputs": [],
   "source": [
    "proba.argmax()"
   ]
  },
  {
   "cell_type": "code",
   "execution_count": null,
   "metadata": {
    "collapsed": true
   },
   "outputs": [],
   "source": []
  }
 ],
 "metadata": {
  "anaconda-cloud": {},
  "kernelspec": {
   "display_name": "Python 2",
   "language": "python",
   "name": "python2"
  },
  "language_info": {
   "codemirror_mode": {
    "name": "ipython",
    "version": 2
   },
   "file_extension": ".py",
   "mimetype": "text/x-python",
   "name": "python",
   "nbconvert_exporter": "python",
   "pygments_lexer": "ipython2",
   "version": "2.7.11"
  }
 },
 "nbformat": 4,
 "nbformat_minor": 0
}
