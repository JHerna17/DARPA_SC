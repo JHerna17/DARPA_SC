{
 "cells": [
  {
   "cell_type": "code",
   "execution_count": 14,
   "metadata": {
    "collapsed": false
   },
   "outputs": [],
   "source": [
    "import pandas as pd\n",
    "import os\n",
    "mingw_path = 'C:\\\\Program Files\\\\mingw-w64\\\\x86_64-5.3.0-posix-seh-rt_v4-rev0\\\\mingw64\\\\bin'\n",
    "os.environ['PATH'] = mingw_path + ';' + os.environ['PATH']"
   ]
  },
  {
   "cell_type": "markdown",
   "metadata": {},
   "source": [
    "Read the Data from 1 Simulation "
   ]
  },
  {
   "cell_type": "code",
   "execution_count": 15,
   "metadata": {
    "collapsed": false
   },
   "outputs": [
    {
     "data": {
      "text/html": [
       "<div>\n",
       "<table border=\"1\" class=\"dataframe\">\n",
       "  <thead>\n",
       "    <tr style=\"text-align: right;\">\n",
       "      <th></th>\n",
       "      <th>Player_Last</th>\n",
       "      <th>Last</th>\n",
       "      <th>pred</th>\n",
       "      <th>Player_lag_1</th>\n",
       "      <th>Player_lag_2</th>\n",
       "      <th>Player_lag_3</th>\n",
       "      <th>Player_lag_4</th>\n",
       "      <th>Player_lag_5</th>\n",
       "      <th>Player_lag_6</th>\n",
       "      <th>Player_lag_7</th>\n",
       "      <th>...</th>\n",
       "      <th>Bot_lag_91</th>\n",
       "      <th>Bot_lag_92</th>\n",
       "      <th>Bot_lag_93</th>\n",
       "      <th>Bot_lag_94</th>\n",
       "      <th>Bot_lag_95</th>\n",
       "      <th>Bot_lag_96</th>\n",
       "      <th>Bot_lag_97</th>\n",
       "      <th>Bot_lag_98</th>\n",
       "      <th>Bot_lag_99</th>\n",
       "      <th>Label</th>\n",
       "    </tr>\n",
       "  </thead>\n",
       "  <tbody>\n",
       "    <tr>\n",
       "      <th>99</th>\n",
       "      <td>9.0</td>\n",
       "      <td>7.0</td>\n",
       "      <td>9.0</td>\n",
       "      <td>8.0</td>\n",
       "      <td>6.0</td>\n",
       "      <td>4.0</td>\n",
       "      <td>8.0</td>\n",
       "      <td>3.0</td>\n",
       "      <td>5.0</td>\n",
       "      <td>4.0</td>\n",
       "      <td>...</td>\n",
       "      <td>6.0</td>\n",
       "      <td>7.0</td>\n",
       "      <td>7.0</td>\n",
       "      <td>3.0</td>\n",
       "      <td>3.0</td>\n",
       "      <td>4.0</td>\n",
       "      <td>8.0</td>\n",
       "      <td>3.0</td>\n",
       "      <td>4.0</td>\n",
       "      <td>5.0</td>\n",
       "    </tr>\n",
       "    <tr>\n",
       "      <th>100</th>\n",
       "      <td>4.0</td>\n",
       "      <td>5.0</td>\n",
       "      <td>1.0</td>\n",
       "      <td>9.0</td>\n",
       "      <td>8.0</td>\n",
       "      <td>6.0</td>\n",
       "      <td>4.0</td>\n",
       "      <td>8.0</td>\n",
       "      <td>3.0</td>\n",
       "      <td>5.0</td>\n",
       "      <td>...</td>\n",
       "      <td>3.0</td>\n",
       "      <td>6.0</td>\n",
       "      <td>7.0</td>\n",
       "      <td>7.0</td>\n",
       "      <td>3.0</td>\n",
       "      <td>3.0</td>\n",
       "      <td>4.0</td>\n",
       "      <td>8.0</td>\n",
       "      <td>3.0</td>\n",
       "      <td>2.0</td>\n",
       "    </tr>\n",
       "    <tr>\n",
       "      <th>101</th>\n",
       "      <td>9.0</td>\n",
       "      <td>2.0</td>\n",
       "      <td>1.0</td>\n",
       "      <td>4.0</td>\n",
       "      <td>9.0</td>\n",
       "      <td>8.0</td>\n",
       "      <td>6.0</td>\n",
       "      <td>4.0</td>\n",
       "      <td>8.0</td>\n",
       "      <td>3.0</td>\n",
       "      <td>...</td>\n",
       "      <td>4.0</td>\n",
       "      <td>3.0</td>\n",
       "      <td>6.0</td>\n",
       "      <td>7.0</td>\n",
       "      <td>7.0</td>\n",
       "      <td>3.0</td>\n",
       "      <td>3.0</td>\n",
       "      <td>4.0</td>\n",
       "      <td>8.0</td>\n",
       "      <td>5.0</td>\n",
       "    </tr>\n",
       "    <tr>\n",
       "      <th>102</th>\n",
       "      <td>5.0</td>\n",
       "      <td>5.0</td>\n",
       "      <td>6.0</td>\n",
       "      <td>9.0</td>\n",
       "      <td>4.0</td>\n",
       "      <td>9.0</td>\n",
       "      <td>8.0</td>\n",
       "      <td>6.0</td>\n",
       "      <td>4.0</td>\n",
       "      <td>8.0</td>\n",
       "      <td>...</td>\n",
       "      <td>7.0</td>\n",
       "      <td>4.0</td>\n",
       "      <td>3.0</td>\n",
       "      <td>6.0</td>\n",
       "      <td>7.0</td>\n",
       "      <td>7.0</td>\n",
       "      <td>3.0</td>\n",
       "      <td>3.0</td>\n",
       "      <td>4.0</td>\n",
       "      <td>2.0</td>\n",
       "    </tr>\n",
       "    <tr>\n",
       "      <th>103</th>\n",
       "      <td>7.0</td>\n",
       "      <td>2.0</td>\n",
       "      <td>7.0</td>\n",
       "      <td>5.0</td>\n",
       "      <td>9.0</td>\n",
       "      <td>4.0</td>\n",
       "      <td>9.0</td>\n",
       "      <td>8.0</td>\n",
       "      <td>6.0</td>\n",
       "      <td>4.0</td>\n",
       "      <td>...</td>\n",
       "      <td>7.0</td>\n",
       "      <td>7.0</td>\n",
       "      <td>4.0</td>\n",
       "      <td>3.0</td>\n",
       "      <td>6.0</td>\n",
       "      <td>7.0</td>\n",
       "      <td>7.0</td>\n",
       "      <td>3.0</td>\n",
       "      <td>3.0</td>\n",
       "      <td>3.0</td>\n",
       "    </tr>\n",
       "  </tbody>\n",
       "</table>\n",
       "<p>5 rows × 202 columns</p>\n",
       "</div>"
      ],
      "text/plain": [
       "     Player_Last  Last pred  Player_lag_1   Player_lag_2   Player_lag_3   \\\n",
       "99           9.0   7.0  9.0            8.0            6.0            4.0   \n",
       "100          4.0   5.0  1.0            9.0            8.0            6.0   \n",
       "101          9.0   2.0  1.0            4.0            9.0            8.0   \n",
       "102          5.0   5.0  6.0            9.0            4.0            9.0   \n",
       "103          7.0   2.0  7.0            5.0            9.0            4.0   \n",
       "\n",
       "     Player_lag_4   Player_lag_5   Player_lag_6   Player_lag_7   ...    \\\n",
       "99             8.0            3.0            5.0            4.0  ...     \n",
       "100            4.0            8.0            3.0            5.0  ...     \n",
       "101            6.0            4.0            8.0            3.0  ...     \n",
       "102            8.0            6.0            4.0            8.0  ...     \n",
       "103            9.0            8.0            6.0            4.0  ...     \n",
       "\n",
       "     Bot_lag_91   Bot_lag_92   Bot_lag_93   Bot_lag_94   Bot_lag_95   \\\n",
       "99           6.0          7.0          7.0          3.0          3.0   \n",
       "100          3.0          6.0          7.0          7.0          3.0   \n",
       "101          4.0          3.0          6.0          7.0          7.0   \n",
       "102          7.0          4.0          3.0          6.0          7.0   \n",
       "103          7.0          7.0          4.0          3.0          6.0   \n",
       "\n",
       "     Bot_lag_96   Bot_lag_97   Bot_lag_98   Bot_lag_99   Label  \n",
       "99           4.0          8.0          3.0          4.0    5.0  \n",
       "100          3.0          4.0          8.0          3.0    2.0  \n",
       "101          3.0          3.0          4.0          8.0    5.0  \n",
       "102          7.0          3.0          3.0          4.0    2.0  \n",
       "103          7.0          7.0          3.0          3.0    3.0  \n",
       "\n",
       "[5 rows x 202 columns]"
      ]
     },
     "execution_count": 15,
     "metadata": {},
     "output_type": "execute_result"
    }
   ],
   "source": [
    "data = pd.read_csv('Test_RF.csv')\n",
    "data['Label'] = data.Last.shift(-1)\n",
    "data = data.dropna(axis=0)\n",
    "data.head()"
   ]
  },
  {
   "cell_type": "markdown",
   "metadata": {},
   "source": [
    "Random Forest + XGB + LR from sklearn"
   ]
  },
  {
   "cell_type": "code",
   "execution_count": 48,
   "metadata": {
    "collapsed": false
   },
   "outputs": [],
   "source": [
    "from sklearn.cross_validation import train_test_split\n",
    "from sklearn.ensemble import RandomForestClassifier\n",
    "from sklearn.linear_model import LogisticRegression\n",
    "from sklearn.metrics import accuracy_score\n",
    "import xgboost as xgb\n",
    "\n",
    "#x_train, x_test, y_train, y_test = train_test_split(data.drop('Label',1), data.Label, test_size = 0.3)\n",
    "\n",
    "x = data.drop('pred',1).drop('Label',1)\n",
    "x_train = x[x.index < 0.8*x.shape[0]] \n",
    "x_test = x[x.index > 0.8*x.shape[0]] \n",
    "\n",
    "y = data.Label\n",
    "y_train = y[y.index < 0.8*y.shape[0]] \n",
    "y_test = y[y.index > 0.8*y.shape[0]] \n"
   ]
  },
  {
   "cell_type": "code",
   "execution_count": 49,
   "metadata": {
    "collapsed": false
   },
   "outputs": [
    {
     "name": "stdout",
     "output_type": "stream",
     "text": [
      "Train RF ACC: 1.0\n",
      "Test RF ACC: 0.147482014388\n",
      "Train GBM ACC: 1.0\n",
      "Test GBM ACC: 0.125899280576\n",
      "Train LR ACC: 0.979066022544\n",
      "Test LR ACC: 0.122302158273\n"
     ]
    }
   ],
   "source": [
    "rf =RandomForestClassifier(n_estimators= 25)\n",
    "gbm = xgb.XGBClassifier(max_depth=3, n_estimators=300, learning_rate=0.05).fit(x_train, y_train)\n",
    "lr = LogisticRegression().fit(x_train, y_train)\n",
    "\n",
    "rf.fit(x_train,y_train)\n",
    "\n",
    "print \"Train RF ACC:\", accuracy_score(y_train, rf.predict(x_train))\n",
    "print \"Test RF ACC:\", accuracy_score(y_test, rf.predict(x_test))\n",
    "\n",
    "print \"Train GBM ACC:\", accuracy_score(y_train, np.round(gbm.predict(x_train)))\n",
    "print \"Test GBM ACC:\", accuracy_score(y_test, np.round(gbm.predict(x_test)))\n",
    "\n",
    "print \"Train LR ACC:\", accuracy_score(y_train, np.round(lr.predict(x_train)))\n",
    "print \"Test LR ACC:\", accuracy_score(y_test, np.round(lr.predict(x_test)))"
   ]
  },
  {
   "cell_type": "markdown",
   "metadata": {
    "collapsed": false
   },
   "source": [
    "LSTM on Tensorflow\n"
   ]
  },
  {
   "cell_type": "code",
   "execution_count": 1,
   "metadata": {
    "collapsed": false
   },
   "outputs": [
    {
     "ename": "ImportError",
     "evalue": "No module named tensorflow",
     "output_type": "error",
     "traceback": [
      "\u001b[1;31m---------------------------------------------------------------------------\u001b[0m",
      "\u001b[1;31mImportError\u001b[0m                               Traceback (most recent call last)",
      "\u001b[1;32m<ipython-input-1-b08ad1b76a0f>\u001b[0m in \u001b[0;36m<module>\u001b[1;34m()\u001b[0m\n\u001b[1;32m----> 1\u001b[1;33m \u001b[1;32mimport\u001b[0m \u001b[0mtensorflow\u001b[0m \u001b[1;32mas\u001b[0m \u001b[0mtf\u001b[0m\u001b[1;33m\u001b[0m\u001b[0m\n\u001b[0m\u001b[0;32m      2\u001b[0m \u001b[1;32mfrom\u001b[0m \u001b[0mtensorflow\u001b[0m\u001b[1;33m.\u001b[0m\u001b[0mpython\u001b[0m\u001b[1;33m.\u001b[0m\u001b[0mops\u001b[0m \u001b[1;32mimport\u001b[0m \u001b[0mrnn\u001b[0m\u001b[1;33m,\u001b[0m \u001b[0mrnn_cell\u001b[0m\u001b[1;33m\u001b[0m\u001b[0m\n\u001b[0;32m      3\u001b[0m \u001b[1;32mimport\u001b[0m \u001b[0mnumpy\u001b[0m \u001b[1;32mas\u001b[0m \u001b[0mnp\u001b[0m\u001b[1;33m\u001b[0m\u001b[0m\n",
      "\u001b[1;31mImportError\u001b[0m: No module named tensorflow"
     ]
    }
   ],
   "source": [
    "import tensorflow as tf\n",
    "from tensorflow.python.ops import rnn, rnn_cell\n",
    "import numpy as np\n"
   ]
  },
  {
   "cell_type": "code",
   "execution_count": null,
   "metadata": {
    "collapsed": false
   },
   "outputs": [],
   "source": []
  },
  {
   "cell_type": "code",
   "execution_count": null,
   "metadata": {
    "collapsed": true
   },
   "outputs": [],
   "source": []
  }
 ],
 "metadata": {
  "kernelspec": {
   "display_name": "Python 2",
   "language": "python",
   "name": "python2"
  },
  "language_info": {
   "codemirror_mode": {
    "name": "ipython",
    "version": 2
   },
   "file_extension": ".py",
   "mimetype": "text/x-python",
   "name": "python",
   "nbconvert_exporter": "python",
   "pygments_lexer": "ipython2",
   "version": "2.7.11"
  }
 },
 "nbformat": 4,
 "nbformat_minor": 0
}
