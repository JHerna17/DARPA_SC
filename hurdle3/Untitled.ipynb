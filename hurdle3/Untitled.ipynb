{
 "cells": [
  {
   "cell_type": "code",
   "execution_count": 1,
   "metadata": {
    "collapsed": false
   },
   "outputs": [],
   "source": [
    "import pandas as pd\n",
    "import os\n",
    "mingw_path = 'C:\\\\Program Files\\\\mingw-w64\\\\x86_64-5.3.0-posix-seh-rt_v4-rev0\\\\mingw64\\\\bin'\n",
    "os.environ['PATH'] = mingw_path + ';' + os.environ['PATH']\n",
    "\n",
    "import warnings\n",
    "warnings.filterwarnings('ignore')"
   ]
  },
  {
   "cell_type": "markdown",
   "metadata": {},
   "source": [
    "Read the Data from 1 Simulation "
   ]
  },
  {
   "cell_type": "code",
   "execution_count": 2,
   "metadata": {
    "collapsed": false
   },
   "outputs": [
    {
     "data": {
      "text/html": [
       "<div>\n",
       "<table border=\"1\" class=\"dataframe\">\n",
       "  <thead>\n",
       "    <tr style=\"text-align: right;\">\n",
       "      <th></th>\n",
       "      <th>Player_Last</th>\n",
       "      <th>Last</th>\n",
       "      <th>pred</th>\n",
       "      <th>Player_lag_1</th>\n",
       "      <th>Player_lag_2</th>\n",
       "      <th>Player_lag_3</th>\n",
       "      <th>Player_lag_4</th>\n",
       "      <th>Player_lag_5</th>\n",
       "      <th>Player_lag_6</th>\n",
       "      <th>Player_lag_7</th>\n",
       "      <th>...</th>\n",
       "      <th>Bot_lag_91</th>\n",
       "      <th>Bot_lag_92</th>\n",
       "      <th>Bot_lag_93</th>\n",
       "      <th>Bot_lag_94</th>\n",
       "      <th>Bot_lag_95</th>\n",
       "      <th>Bot_lag_96</th>\n",
       "      <th>Bot_lag_97</th>\n",
       "      <th>Bot_lag_98</th>\n",
       "      <th>Bot_lag_99</th>\n",
       "      <th>Label</th>\n",
       "    </tr>\n",
       "  </thead>\n",
       "  <tbody>\n",
       "    <tr>\n",
       "      <th>99</th>\n",
       "      <td>7.0</td>\n",
       "      <td>8.0</td>\n",
       "      <td>4.0</td>\n",
       "      <td>3.0</td>\n",
       "      <td>2.0</td>\n",
       "      <td>3.0</td>\n",
       "      <td>5.0</td>\n",
       "      <td>1.0</td>\n",
       "      <td>7.0</td>\n",
       "      <td>4.0</td>\n",
       "      <td>...</td>\n",
       "      <td>2.0</td>\n",
       "      <td>8.0</td>\n",
       "      <td>8.0</td>\n",
       "      <td>1.0</td>\n",
       "      <td>8.0</td>\n",
       "      <td>1.0</td>\n",
       "      <td>2.0</td>\n",
       "      <td>1.0</td>\n",
       "      <td>7.0</td>\n",
       "      <td>1.0</td>\n",
       "    </tr>\n",
       "    <tr>\n",
       "      <th>100</th>\n",
       "      <td>1.0</td>\n",
       "      <td>1.0</td>\n",
       "      <td>5.0</td>\n",
       "      <td>7.0</td>\n",
       "      <td>3.0</td>\n",
       "      <td>2.0</td>\n",
       "      <td>3.0</td>\n",
       "      <td>5.0</td>\n",
       "      <td>1.0</td>\n",
       "      <td>7.0</td>\n",
       "      <td>...</td>\n",
       "      <td>7.0</td>\n",
       "      <td>2.0</td>\n",
       "      <td>8.0</td>\n",
       "      <td>8.0</td>\n",
       "      <td>1.0</td>\n",
       "      <td>8.0</td>\n",
       "      <td>1.0</td>\n",
       "      <td>2.0</td>\n",
       "      <td>1.0</td>\n",
       "      <td>1.0</td>\n",
       "    </tr>\n",
       "    <tr>\n",
       "      <th>101</th>\n",
       "      <td>9.0</td>\n",
       "      <td>1.0</td>\n",
       "      <td>7.0</td>\n",
       "      <td>1.0</td>\n",
       "      <td>7.0</td>\n",
       "      <td>3.0</td>\n",
       "      <td>2.0</td>\n",
       "      <td>3.0</td>\n",
       "      <td>5.0</td>\n",
       "      <td>1.0</td>\n",
       "      <td>...</td>\n",
       "      <td>7.0</td>\n",
       "      <td>7.0</td>\n",
       "      <td>2.0</td>\n",
       "      <td>8.0</td>\n",
       "      <td>8.0</td>\n",
       "      <td>1.0</td>\n",
       "      <td>8.0</td>\n",
       "      <td>1.0</td>\n",
       "      <td>2.0</td>\n",
       "      <td>3.0</td>\n",
       "    </tr>\n",
       "    <tr>\n",
       "      <th>102</th>\n",
       "      <td>6.0</td>\n",
       "      <td>3.0</td>\n",
       "      <td>3.0</td>\n",
       "      <td>9.0</td>\n",
       "      <td>1.0</td>\n",
       "      <td>7.0</td>\n",
       "      <td>3.0</td>\n",
       "      <td>2.0</td>\n",
       "      <td>3.0</td>\n",
       "      <td>5.0</td>\n",
       "      <td>...</td>\n",
       "      <td>2.0</td>\n",
       "      <td>7.0</td>\n",
       "      <td>7.0</td>\n",
       "      <td>2.0</td>\n",
       "      <td>8.0</td>\n",
       "      <td>8.0</td>\n",
       "      <td>1.0</td>\n",
       "      <td>8.0</td>\n",
       "      <td>1.0</td>\n",
       "      <td>1.0</td>\n",
       "    </tr>\n",
       "    <tr>\n",
       "      <th>103</th>\n",
       "      <td>9.0</td>\n",
       "      <td>1.0</td>\n",
       "      <td>7.0</td>\n",
       "      <td>6.0</td>\n",
       "      <td>9.0</td>\n",
       "      <td>1.0</td>\n",
       "      <td>7.0</td>\n",
       "      <td>3.0</td>\n",
       "      <td>2.0</td>\n",
       "      <td>3.0</td>\n",
       "      <td>...</td>\n",
       "      <td>4.0</td>\n",
       "      <td>2.0</td>\n",
       "      <td>7.0</td>\n",
       "      <td>7.0</td>\n",
       "      <td>2.0</td>\n",
       "      <td>8.0</td>\n",
       "      <td>8.0</td>\n",
       "      <td>1.0</td>\n",
       "      <td>8.0</td>\n",
       "      <td>6.0</td>\n",
       "    </tr>\n",
       "  </tbody>\n",
       "</table>\n",
       "<p>5 rows × 202 columns</p>\n",
       "</div>"
      ],
      "text/plain": [
       "     Player_Last  Last  pred  Player_lag_1   Player_lag_2   Player_lag_3   \\\n",
       "99           7.0   8.0   4.0            3.0            2.0            3.0   \n",
       "100          1.0   1.0   5.0            7.0            3.0            2.0   \n",
       "101          9.0   1.0   7.0            1.0            7.0            3.0   \n",
       "102          6.0   3.0   3.0            9.0            1.0            7.0   \n",
       "103          9.0   1.0   7.0            6.0            9.0            1.0   \n",
       "\n",
       "     Player_lag_4   Player_lag_5   Player_lag_6   Player_lag_7   ...    \\\n",
       "99             5.0            1.0            7.0            4.0  ...     \n",
       "100            3.0            5.0            1.0            7.0  ...     \n",
       "101            2.0            3.0            5.0            1.0  ...     \n",
       "102            3.0            2.0            3.0            5.0  ...     \n",
       "103            7.0            3.0            2.0            3.0  ...     \n",
       "\n",
       "     Bot_lag_91   Bot_lag_92   Bot_lag_93   Bot_lag_94   Bot_lag_95   \\\n",
       "99           2.0          8.0          8.0          1.0          8.0   \n",
       "100          7.0          2.0          8.0          8.0          1.0   \n",
       "101          7.0          7.0          2.0          8.0          8.0   \n",
       "102          2.0          7.0          7.0          2.0          8.0   \n",
       "103          4.0          2.0          7.0          7.0          2.0   \n",
       "\n",
       "     Bot_lag_96   Bot_lag_97   Bot_lag_98   Bot_lag_99   Label  \n",
       "99           1.0          2.0          1.0          7.0    1.0  \n",
       "100          8.0          1.0          2.0          1.0    1.0  \n",
       "101          1.0          8.0          1.0          2.0    3.0  \n",
       "102          8.0          1.0          8.0          1.0    1.0  \n",
       "103          8.0          8.0          1.0          8.0    6.0  \n",
       "\n",
       "[5 rows x 202 columns]"
      ]
     },
     "execution_count": 2,
     "metadata": {},
     "output_type": "execute_result"
    }
   ],
   "source": [
    "data = pd.read_csv('Test_RF.csv')\n",
    "data['Label'] = data.Last.shift(-1)\n",
    "data = data.dropna(axis=0)\n",
    "data.head()"
   ]
  },
  {
   "cell_type": "code",
   "execution_count": 3,
   "metadata": {
    "collapsed": false
   },
   "outputs": [
    {
     "data": {
      "text/plain": [
       "(29899, 202)"
      ]
     },
     "execution_count": 3,
     "metadata": {},
     "output_type": "execute_result"
    }
   ],
   "source": [
    "data.shape"
   ]
  },
  {
   "cell_type": "markdown",
   "metadata": {},
   "source": [
    "Random Forest + XGB + LR from sklearn"
   ]
  },
  {
   "cell_type": "code",
   "execution_count": 4,
   "metadata": {
    "collapsed": false
   },
   "outputs": [],
   "source": [
    "from sklearn.cross_validation import train_test_split\n",
    "from sklearn.ensemble import RandomForestClassifier\n",
    "from sklearn.linear_model import LogisticRegression\n",
    "from sklearn.metrics import accuracy_score\n",
    "import xgboost as xgb\n",
    "import numpy as np\n",
    "\n",
    "\n",
    "#x_train, x_test, y_train, y_test = train_test_split(data.drop('Label',1), data.Label, test_size = 0.3)\n",
    "\n",
    "x = data.drop('pred',1).drop('Label',1)\n",
    "x_train = x[x.index < 0.8*x.shape[0]] \n",
    "x_test = x[x.index > 0.8*x.shape[0]] \n",
    "\n",
    "y = data.Label\n",
    "y_train = y[y.index < 0.8*y.shape[0]] \n",
    "y_test = y[y.index > 0.8*y.shape[0]] \n"
   ]
  },
  {
   "cell_type": "code",
   "execution_count": 5,
   "metadata": {
    "collapsed": false
   },
   "outputs": [
    {
     "name": "stdout",
     "output_type": "stream",
     "text": [
      "Train RF ACC: 1.0\n",
      "Test RF ACC: 0.130470549523\n",
      "Train GBM ACC: 0.133579614626\n",
      "Test GBM ACC: 0.116321158276\n",
      "Train LR ACC: 0.17564333991\n",
      "Test LR ACC: 0.12372490951\n"
     ]
    }
   ],
   "source": [
    "rf =RandomForestClassifier(n_estimators= 300)\n",
    "gbm = xgb.XGBRegressor(max_depth=3, n_estimators=300, learning_rate=0.05).fit(x_train, y_train)\n",
    "lr = LogisticRegression().fit(x_train, y_train)\n",
    "\n",
    "rf.fit(x_train,y_train)\n",
    "\n",
    "print \"Train RF ACC:\", accuracy_score(y_train, rf.predict(x_train))\n",
    "print \"Test RF ACC:\", accuracy_score(y_test, rf.predict(x_test))\n",
    "\n",
    "print \"Train GBM ACC:\", accuracy_score(y_train, np.round(gbm.predict(x_train)))\n",
    "print \"Test GBM ACC:\", accuracy_score(y_test, np.round(gbm.predict(x_test)))\n",
    "\n",
    "print \"Train LR ACC:\", accuracy_score(y_train, np.round(lr.predict(x_train)))\n",
    "print \"Test LR ACC:\", accuracy_score(y_test, np.round(lr.predict(x_test)))"
   ]
  },
  {
   "cell_type": "markdown",
   "metadata": {},
   "source": [
    "Hidden Markov Model using HmmLearn"
   ]
  },
  {
   "cell_type": "code",
   "execution_count": 31,
   "metadata": {
    "collapsed": true
   },
   "outputs": [],
   "source": []
  },
  {
   "cell_type": "code",
   "execution_count": 78,
   "metadata": {
    "collapsed": false
   },
   "outputs": [],
   "source": [
    "from hmmlearn.hmm import GaussianHMM\n",
    "class HMMPlayer:\n",
    "    ''' A Simple class that simulate a Random Player for the #3 Hurdle of the DARPA Competition  '''\n",
    "    import numpy as np\n",
    "    \n",
    "        \n",
    "    def __init__ (self, M, retrain=500, seq_size = 100):\n",
    "        self._type = \"HMM\"        \n",
    "        self.M = M                               ##  M-outputs\n",
    "        self.record = pd.DataFrame( columns=['Player_Last','Last','pred'])\n",
    "        self.turn = 0\n",
    "        self.retrain = retrain\n",
    "\n",
    "                    \n",
    "    def start(self):\n",
    "        \n",
    "        D,P = [np.random.choice(range(1,self.M)),np.random.choice(range(1,self.M))]\n",
    "        self.Prev_D = D\n",
    "        return D,P\n",
    "        \n",
    "    def step(self, A):\n",
    "        \n",
    "        self.turn = self.turn +1\n",
    "        self.appendData(A,self.Prev_D, self.LastPred)\n",
    "        \n",
    "        if self.turn < self.retrain:\n",
    "            D,P = self.start()\n",
    "                    \n",
    "        else:\n",
    "            # check if is time to train \n",
    "            if self.turn%self.retrain == 0:\n",
    "                # Train\n",
    "                self.Train()\n",
    "                    \n",
    "            D,P = self.predict()            \n",
    "                 \n",
    "        self.Prev_D = D\n",
    "        self.LastPred = P\n",
    "        return [D,P]\n",
    "        \n",
    "    def appendData(self, A, D,P):\n",
    "                \n",
    "        self.record = self.record.append(pd.DataFrame([[D,A,P]], columns=['Player_Last','Last','pred']),ignore_index=True)\n",
    "        \n",
    "        \n",
    "    def Train(self):                \n",
    "        \n",
    "        print \"Training.. \"\n",
    "        df = self.record.drop('pred',1).copy()\n",
    "        df['Label'] = self.Dataset.Last.shift(-1)  \n",
    "        df = df.dropna(axis=0) # Remove NA rows \n",
    "        \n",
    "        \n",
    "        x = df.drop('Label',1)\n",
    "        y = df.Label\n",
    "        \n",
    "        model = GaussianHMM(n_components=10, covariance_type=\"full\", n_iter=2).fit(x)\n",
    "               \n",
    "        self.clf = grid_search.fit(x,y)            \n",
    "        \n",
    "        #print \"Train ACC:\", accuracy_score(y, self.clf.predict(x))\n",
    "        return True    \n",
    "\n",
    "    \n",
    "    def predict(self):\n",
    "        \n",
    "        # Predict the optimal sequence of internal hidden state\n",
    "        hidden_states = model.predict(self.record[['Player_Last', 'Last']]) ## This will give us a n_components x n_components transmition matrix that tries to imitate the DARPA Player Q matrix\n",
    "        \n",
    "        darpa_state = hidden_states[-1:] # this will give me the last state of the most probable \n",
    "        p_ = model.transmat_[darpa_state,:][0]\n",
    "        p_x = (1-p_)/sum(1-p_) # Inverse Probabilities to get the Least Likely        \n",
    "        \n",
    "        P = np.random.choice(range(1,self.N), p=p_)\n",
    "        D = np.random.choice(range(1,self.N), p= p_x)\n",
    "\n",
    "        \n",
    "        return D,P  # P = More Likely, D = Less Likely \n",
    "        \n",
    "    def restart(self):\n",
    "        print \"Restarting.. \"\n",
    "        self.__init__(self.N,retrain=self.retrain)\n",
    "        return True\n",
    "        "
   ]
  },
  {
   "cell_type": "code",
   "execution_count": 46,
   "metadata": {
    "collapsed": false
   },
   "outputs": [
    {
     "name": "stdout",
     "output_type": "stream",
     "text": [
      "fitting to HMM and decoding ...\n"
     ]
    }
   ],
   "source": [
    "print(\"fitting to HMM and decoding ...\")\n",
    "\n",
    "# Make an HMM instance and execute fit\n",
    "model = GaussianHMM(n_components=10, covariance_type=\"full\", n_iter=2).fit(x_train[['Player_Last', 'Last']])\n",
    "\n"
   ]
  },
  {
   "cell_type": "code",
   "execution_count": 53,
   "metadata": {
    "collapsed": false
   },
   "outputs": [
    {
     "name": "stdout",
     "output_type": "stream",
     "text": [
      "done\n"
     ]
    }
   ],
   "source": [
    "# Predict the optimal sequence of internal hidden state\n",
    "        hidden_states = model.predict(self.record[['Player_Last', 'Last']]) ## This will give us a n_components x n_components transmition matrix that tries to imitate the DARPA Player Q matrix\n",
    "\n",
    "print(\"done\")"
   ]
  },
  {
   "cell_type": "code",
   "execution_count": 84,
   "metadata": {
    "collapsed": false
   },
   "outputs": [
    {
     "name": "stdout",
     "output_type": "stream",
     "text": [
      "[ 0.09649138  0.11419592  0.0995999   0.08901213  0.10448929  0.10347391\n",
      "  0.08244851  0.10974098  0.07908446  0.12146352]\n",
      "9\n"
     ]
    }
   ],
   "source": [
    "darpa_state = hidden_states[-1:] # this will give me the last state of the most probable \n",
    "p_ = model.transmat_[darpa_state,:][0]\n",
    "p_x = (1-p_)/sum(1-p_)\n",
    "P = np.random.choice(range(10), p=p_)\n",
    "\n",
    "p_x = 1-p_\n",
    "p_x[P] = 0\n",
    "print p_x\n",
    "p_x = p_x/sum(p_x)\n",
    "print np.random.choice(range(10), p=p_x)\n",
    "\n",
    "print p_\n",
    "print P\n"
   ]
  },
  {
   "cell_type": "code",
   "execution_count": 88,
   "metadata": {
    "collapsed": false
   },
   "outputs": [
    {
     "name": "stdout",
     "output_type": "stream",
     "text": [
      "[ 0.90350862  0.88580408  0.9004001   0.91098787  0.89551071  0.89652609\n",
      "  0.91755149  0.89025902  0.92091554  0.        ]\n",
      "5\n"
     ]
    }
   ],
   "source": [
    "\n"
   ]
  },
  {
   "cell_type": "markdown",
   "metadata": {
    "collapsed": false
   },
   "source": [
    "LSTM on Tensorflow\n",
    "\n",
    "\n",
    "Example of Predicting a Sin(x)"
   ]
  },
  {
   "cell_type": "code",
   "execution_count": 6,
   "metadata": {
    "collapsed": false
   },
   "outputs": [],
   "source": [
    "%matplotlib inline\n",
    "import numpy as np\n",
    "import pandas as pd\n",
    "import tensorflow as tf\n",
    "from matplotlib import pyplot as plt\n",
    "\n",
    "from tensorflow.contrib import learn\n",
    "from sklearn.metrics import mean_squared_error\n",
    "from sklearn.preprocessing import MinMaxScaler\n",
    "\n",
    "from lstm import generate_data, lstm_model, prepare_data\n"
   ]
  },
  {
   "cell_type": "code",
   "execution_count": 19,
   "metadata": {
    "collapsed": true
   },
   "outputs": [],
   "source": [
    "LOG_DIR = './ops_logs/sin'\n",
    "TIMESTEPS = 20\n",
    "RNN_LAYERS = [{'num_units': 5}]\n",
    "DENSE_LAYERS = 0\n",
    "TRAINING_STEPS = 30000\n",
    "PRINT_STEPS = TRAINING_STEPS / 10\n",
    "BATCH_SIZE = 100"
   ]
  },
  {
   "cell_type": "code",
   "execution_count": 20,
   "metadata": {
    "collapsed": false
   },
   "outputs": [
    {
     "name": "stderr",
     "output_type": "stream",
     "text": [
      "WARNING:tensorflow:Using default config.\n"
     ]
    }
   ],
   "source": [
    "regressor = learn.Estimator(model_fn=lstm_model(TIMESTEPS, RNN_LAYERS, DENSE_LAYERS),\n",
    "                            model_dir=LOG_DIR)"
   ]
  },
  {
   "cell_type": "code",
   "execution_count": 21,
   "metadata": {
    "collapsed": false
   },
   "outputs": [
    {
     "name": "stderr",
     "output_type": "stream",
     "text": [
      "/home/bts/.local/lib/python2.7/site-packages/sklearn/preprocessing/data.py:324: DeprecationWarning: Passing 1d arrays as data is deprecated in 0.17 and will raise ValueError in 0.19. Reshape your data either using X.reshape(-1, 1) if your data has a single feature or X.reshape(1, -1) if it contains a single sample.\n",
      "  warnings.warn(DEPRECATION_MSG_1D, DeprecationWarning)\n",
      "/home/bts/.local/lib/python2.7/site-packages/sklearn/preprocessing/data.py:359: DeprecationWarning: Passing 1d arrays as data is deprecated in 0.17 and will raise ValueError in 0.19. Reshape your data either using X.reshape(-1, 1) if your data has a single feature or X.reshape(1, -1) if it contains a single sample.\n",
      "  warnings.warn(DEPRECATION_MSG_1D, DeprecationWarning)\n"
     ]
    }
   ],
   "source": [
    "min_max_scaler = MinMaxScaler()\n",
    "X_train_minmax = min_max_scaler.fit_transform(data['Last'])\n",
    "x_norm = pd.DataFrame(X_train_minmax)\n",
    "\n",
    "train_x, val_x, test_x = prepare_data(x_norm , TIMESTEPS)\n",
    "train_y, val_y, test_y = prepare_data(x_norm , TIMESTEPS, labels=True)\n",
    "\n",
    "X, y = dict(train=train_x, val=val_x, test=test_x), dict(train=train_y, val=val_y, test=test_y)"
   ]
  },
  {
   "cell_type": "code",
   "execution_count": 22,
   "metadata": {
    "collapsed": true
   },
   "outputs": [],
   "source": [
    "#X, y = generate_data(np.sin, np.linspace(0, 100, 10000, dtype=np.float32), TIMESTEPS, seperate=False)"
   ]
  },
  {
   "cell_type": "code",
   "execution_count": 23,
   "metadata": {
    "collapsed": false
   },
   "outputs": [
    {
     "name": "stdout",
     "output_type": "stream",
     "text": [
      "(24198, 20, 1) (2970, 20, 1)\n",
      "(24198, 1) (2970, 1)\n"
     ]
    }
   ],
   "source": [
    "print X['train'].shape, X['test'].shape\n",
    "#print X['train']\n",
    "\n",
    "print y['train'].shape, y['test'].shape\n",
    "#print y['train']"
   ]
  },
  {
   "cell_type": "code",
   "execution_count": 24,
   "metadata": {
    "collapsed": false
   },
   "outputs": [
    {
     "name": "stderr",
     "output_type": "stream",
     "text": [
      "WARNING:tensorflow:sum_of_squares (from tensorflow.contrib.losses.python.losses.loss_ops) is deprecated and will be removed after 2016-10-01.\n",
      "Instructions for updating:\n",
      "Use mean_squared_error.\n",
      "WARNING:tensorflow:Given features: Tensor(\"input:0\", shape=(?, 20, 1), dtype=float32), required signatures: TensorSignature(dtype=tf.float32, shape=TensorShape([Dimension(None), Dimension(20), Dimension(1)]), is_sparse=False).\n",
      "WARNING:tensorflow:Given targets: Tensor(\"output:0\", shape=(?,), dtype=float32), required signatures: TensorSignature(dtype=tf.float32, shape=TensorShape([Dimension(None)]), is_sparse=False).\n",
      "WARNING:tensorflow:sum_of_squares (from tensorflow.contrib.losses.python.losses.loss_ops) is deprecated and will be removed after 2016-10-01.\n",
      "Instructions for updating:\n",
      "Use mean_squared_error.\n"
     ]
    },
    {
     "data": {
      "text/plain": [
       "Estimator(params=None)"
      ]
     },
     "execution_count": 24,
     "metadata": {},
     "output_type": "execute_result"
    }
   ],
   "source": [
    "\n",
    "\n",
    "# create a lstm instance and validation monitor\n",
    "validation_monitor = learn.monitors.ValidationMonitor(X['val'], y['val'],\n",
    "                                                     every_n_steps=PRINT_STEPS,\n",
    "                                                     early_stopping_rounds=1000)\n",
    "# print(X['train'])\n",
    "# print(y['train'])\n",
    "\n",
    "regressor.fit(X['train'], y['train'], \n",
    "              monitors=[validation_monitor], \n",
    "              batch_size=BATCH_SIZE,\n",
    "              steps=TRAINING_STEPS)"
   ]
  },
  {
   "cell_type": "code",
   "execution_count": null,
   "metadata": {
    "collapsed": false
   },
   "outputs": [],
   "source": [
    "predicted = regressor.predict(X['test'])\n",
    "rmse = np.sqrt(((predicted - y['test']) ** 2).mean(axis=0))\n",
    "score = mean_squared_error(predicted, y['test'])\n",
    "print (\"MSE: %f\" % score)"
   ]
  },
  {
   "cell_type": "code",
   "execution_count": null,
   "metadata": {
    "collapsed": false
   },
   "outputs": [],
   "source": [
    "plot_predicted, = plt.plot(predicted[0:500], label='predicted')\n",
    "plot_test, = plt.plot(y['test'][0:500], label='test')\n",
    "plt.legend(handles=[plot_predicted, plot_test])"
   ]
  },
  {
   "cell_type": "markdown",
   "metadata": {},
   "source": [
    "What I need to do is format the input and output the same way"
   ]
  },
  {
   "cell_type": "code",
   "execution_count": null,
   "metadata": {
    "collapsed": false
   },
   "outputs": [],
   "source": []
  },
  {
   "cell_type": "code",
   "execution_count": null,
   "metadata": {
    "collapsed": true
   },
   "outputs": [],
   "source": []
  }
 ],
 "metadata": {
  "kernelspec": {
   "display_name": "Python 2",
   "language": "python",
   "name": "python2"
  },
  "language_info": {
   "codemirror_mode": {
    "name": "ipython",
    "version": 2
   },
   "file_extension": ".py",
   "mimetype": "text/x-python",
   "name": "python",
   "nbconvert_exporter": "python",
   "pygments_lexer": "ipython2",
   "version": "2.7.12"
  }
 },
 "nbformat": 4,
 "nbformat_minor": 0
}
