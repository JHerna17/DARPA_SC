{
 "cells": [
  {
   "cell_type": "code",
   "execution_count": 1,
   "metadata": {
    "collapsed": true
   },
   "outputs": [],
   "source": [
    "import ProbabilisticStateMachine as darpa\n",
    "import numpy as np"
   ]
  },
  {
   "cell_type": "code",
   "execution_count": 2,
   "metadata": {
    "collapsed": false
   },
   "outputs": [
    {
     "data": {
      "text/plain": [
       "0"
      ]
     },
     "execution_count": 2,
     "metadata": {},
     "output_type": "execute_result"
    }
   ],
   "source": [
    "Player = darpa.ProbabilisticStateMachine(10)\n",
    "Player.start()"
   ]
  },
  {
   "cell_type": "code",
   "execution_count": 3,
   "metadata": {
    "collapsed": false
   },
   "outputs": [
    {
     "name": "stdout",
     "output_type": "stream",
     "text": [
      "[[False False False  True  True  True False False False False]\n",
      " [False False  True False False False False  True  True False]\n",
      " [ True  True False False  True False False False  True  True]\n",
      " [False  True  True False False  True  True False False False]\n",
      " [ True  True False  True False False False False  True False]\n",
      " [False False  True  True False False False  True False  True]\n",
      " [False False  True False False False False False  True  True]\n",
      " [False False  True False False False False False  True False]\n",
      " [ True False False  True  True  True False False False False]\n",
      " [False False False False  True False  True  True False False]]\n"
     ]
    }
   ],
   "source": [
    "print np.apply_along_axis(any,1,(Player.transition_mat[:,:,:] > 0.5))\n"
   ]
  },
  {
   "cell_type": "code",
   "execution_count": 4,
   "metadata": {
    "collapsed": false
   },
   "outputs": [
    {
     "name": "stdout",
     "output_type": "stream",
     "text": [
      "[[ 0.04395152  0.12254953  0.02029107  0.6         0.00478638  0.00975306\n",
      "   0.05148355  0.01929902  0.10450939  0.02337648]\n",
      " [ 0.18073705  0.04306846  0.20087775  0.20456377  0.05072808  0.06672372\n",
      "   0.05576571  0.05955159  0.13494528  0.00303859]\n",
      " [ 0.17444982  0.11446781  0.0947434   0.06833187  0.03638261  0.21765238\n",
      "   0.02676499  0.00677472  0.1165123   0.14392011]\n",
      " [ 0.1640696   0.00845499  0.17281189  0.01190225  0.03923357  0.08851861\n",
      "   0.18735924  0.11635588  0.06663497  0.144659  ]\n",
      " [ 0.0149743   0.03957714  0.03422353  0.04856754  0.0566806   0.6\n",
      "   0.01572909  0.05471112  0.07877372  0.05676296]\n",
      " [ 0.07467855  0.11341572  0.10421473  0.11457647  0.09407672  0.11683184\n",
      "   0.0940608   0.07376662  0.08885079  0.12552777]\n",
      " [ 0.05435273  0.04124919  0.06037727  0.00771371  0.09622189  0.11819358\n",
      "   0.21838563  0.11842376  0.1310709   0.15401133]\n",
      " [ 0.08132625  0.14530523  0.01852986  0.13047107  0.12560941  0.12766938\n",
      "   0.14889783  0.08392394  0.0866664   0.05160063]\n",
      " [ 0.07078588  0.03024335  0.03895426  0.01025309  0.6         0.08059371\n",
      "   0.05969117  0.0290398   0.05586934  0.0245694 ]\n",
      " [ 0.00780598  0.02082863  0.05224267  0.07302107  0.03433259  0.6\n",
      "   0.03514876  0.01753827  0.0988595   0.06022254]]\n"
     ]
    }
   ],
   "source": [
    "print (Player.transition_mat[0,:,:])"
   ]
  },
  {
   "cell_type": "code",
   "execution_count": null,
   "metadata": {
    "collapsed": true
   },
   "outputs": [],
   "source": []
  },
  {
   "cell_type": "code",
   "execution_count": null,
   "metadata": {
    "collapsed": true
   },
   "outputs": [],
   "source": []
  }
 ],
 "metadata": {
  "kernelspec": {
   "display_name": "Python 2",
   "language": "python",
   "name": "python2"
  },
  "language_info": {
   "codemirror_mode": {
    "name": "ipython",
    "version": 2
   },
   "file_extension": ".py",
   "mimetype": "text/x-python",
   "name": "python",
   "nbconvert_exporter": "python",
   "pygments_lexer": "ipython2",
   "version": "2.7.11"
  }
 },
 "nbformat": 4,
 "nbformat_minor": 1
}
