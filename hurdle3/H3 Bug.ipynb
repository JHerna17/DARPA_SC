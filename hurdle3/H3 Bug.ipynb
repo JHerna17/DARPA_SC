{
 "cells": [
  {
   "cell_type": "code",
   "execution_count": 15,
   "metadata": {
    "collapsed": true
   },
   "outputs": [],
   "source": [
    "import ProbabilisticStateMachine as darpa\n",
    "import numpy as np"
   ]
  },
  {
   "cell_type": "code",
   "execution_count": 16,
   "metadata": {
    "collapsed": false
   },
   "outputs": [
    {
     "data": {
      "text/plain": [
       "5"
      ]
     },
     "execution_count": 16,
     "metadata": {},
     "output_type": "execute_result"
    }
   ],
   "source": [
    "Player = darpa.ProbabilisticStateMachine(10)\n",
    "Player.start()"
   ]
  },
  {
   "cell_type": "code",
   "execution_count": 29,
   "metadata": {
    "collapsed": false
   },
   "outputs": [
    {
     "name": "stdout",
     "output_type": "stream",
     "text": [
      "[[False False False  True  True False False False  True False]\n",
      " [False False False False  True False  True  True  True  True]\n",
      " [False  True False  True  True  True  True False False False]\n",
      " [ True False  True False  True False  True  True False  True]\n",
      " [False  True  True  True False  True  True  True False False]\n",
      " [ True False  True  True  True False False False False False]\n",
      " [ True  True False  True False  True False False  True False]\n",
      " [False False  True False  True  True  True False False  True]\n",
      " [False  True  True  True False False False  True False False]\n",
      " [False False  True False  True False False  True  True False]]\n"
     ]
    }
   ],
   "source": [
    "print np.apply_along_axis(any,1,(Player.transition_mat[:,:,:] > 0.5))\n"
   ]
  },
  {
   "cell_type": "code",
   "execution_count": 30,
   "metadata": {
    "collapsed": false
   },
   "outputs": [
    {
     "name": "stdout",
     "output_type": "stream",
     "text": [
      "[[ 0.10949549  0.10551647  0.0700896   0.11337123  0.15626639  0.08389685\n",
      "   0.03516311  0.11423475  0.11855115  0.09341497]\n",
      " [ 0.11518084  0.10559108  0.08125694  0.04730373  0.1515877   0.08277814\n",
      "   0.10836935  0.07819387  0.11657339  0.11316496]\n",
      " [ 0.05204441  0.02319737  0.06300267  0.6         0.02164629  0.0691568\n",
      "   0.08596752  0.00435284  0.07376473  0.00686738]\n",
      " [ 0.079109    0.1349719   0.10364207  0.10929899  0.08123412  0.02048658\n",
      "   0.16497835  0.0464974   0.11167025  0.14811134]\n",
      " [ 0.04814028  0.03870398  0.0462409   0.03497075  0.6         0.03026052\n",
      "   0.02545336  0.02721234  0.07171657  0.0773013 ]\n",
      " [ 0.0396799   0.08454297  0.0697807   0.00516278  0.08891041  0.0630757\n",
      "   0.01122246  0.00111491  0.6         0.03651018]\n",
      " [ 0.16799711  0.12626894  0.12009559  0.01801718  0.09418048  0.07053516\n",
      "   0.04791361  0.09556038  0.09267928  0.16675226]\n",
      " [ 0.09252739  0.18063613  0.10226274  0.01863628  0.04728291  0.05401345\n",
      "   0.20746744  0.14534095  0.01499543  0.13683727]\n",
      " [ 0.16624497  0.2269543   0.0044322   0.10280666  0.18428857  0.05727707\n",
      "   0.02755295  0.04535478  0.04284239  0.14224611]\n",
      " [ 0.07005064  0.01127553  0.11486492  0.03449687  0.01956811  0.15305258\n",
      "   0.20813455  0.17403143  0.12494814  0.08957722]]\n"
     ]
    }
   ],
   "source": [
    "print (Player.transition_mat[0,:,:])"
   ]
  },
  {
   "cell_type": "code",
   "execution_count": null,
   "metadata": {
    "collapsed": true
   },
   "outputs": [],
   "source": []
  }
 ],
 "metadata": {
  "kernelspec": {
   "display_name": "Python 2",
   "language": "python",
   "name": "python2"
  },
  "language_info": {
   "codemirror_mode": {
    "name": "ipython",
    "version": 2
   },
   "file_extension": ".py",
   "mimetype": "text/x-python",
   "name": "python",
   "nbconvert_exporter": "python",
   "pygments_lexer": "ipython2",
   "version": "2.7.12"
  }
 },
 "nbformat": 4,
 "nbformat_minor": 1
}
